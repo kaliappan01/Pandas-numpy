{
  "nbformat": 4,
  "nbformat_minor": 0,
  "metadata": {
    "colab": {
      "name": "pandas_pract.ipynb",
      "provenance": [],
      "collapsed_sections": []
    },
    "kernelspec": {
      "name": "python3",
      "display_name": "Python 3"
    },
    "language_info": {
      "name": "python"
    }
  },
  "cells": [
    {
      "cell_type": "code",
      "metadata": {
        "id": "c-QIFdTs5r_p"
      },
      "source": [
        "import pandas as pd\n",
        "from pandas import Series,DataFrame\n",
        "import numpy as np"
      ],
      "execution_count": 1,
      "outputs": []
    },
    {
      "cell_type": "code",
      "metadata": {
        "colab": {
          "base_uri": "https://localhost:8080/"
        },
        "id": "aaU5rGSsPFLY",
        "outputId": "0930eb2c-9c32-4743-b4f8-0f3f25a9a36f"
      },
      "source": [
        "contents = np.random.rand(8,3)*10\n",
        "contents"
      ],
      "execution_count": 2,
      "outputs": [
        {
          "output_type": "execute_result",
          "data": {
            "text/plain": [
              "array([[1.21867311, 6.9487192 , 5.61584268],\n",
              "       [8.12909568, 3.99691962, 2.44706811],\n",
              "       [5.33658705, 4.20705864, 5.73320295],\n",
              "       [3.81311748, 4.59532807, 9.25439159],\n",
              "       [1.08362415, 4.76329117, 8.98254358],\n",
              "       [0.84268639, 4.95561871, 4.05131595],\n",
              "       [3.82036886, 8.27363724, 9.93535985],\n",
              "       [8.13325807, 2.7700533 , 7.10492167]])"
            ]
          },
          "metadata": {
            "tags": []
          },
          "execution_count": 2
        }
      ]
    },
    {
      "cell_type": "code",
      "metadata": {
        "colab": {
          "base_uri": "https://localhost:8080/",
          "height": 284
        },
        "id": "LUntnz3ePRU6",
        "outputId": "67260908-749c-458e-c6fc-4c5e2b5fde76"
      },
      "source": [
        "df = DataFrame(contents,columns=['AAA','BBB','CCC'])\n",
        "df"
      ],
      "execution_count": 3,
      "outputs": [
        {
          "output_type": "execute_result",
          "data": {
            "text/html": [
              "<div>\n",
              "<style scoped>\n",
              "    .dataframe tbody tr th:only-of-type {\n",
              "        vertical-align: middle;\n",
              "    }\n",
              "\n",
              "    .dataframe tbody tr th {\n",
              "        vertical-align: top;\n",
              "    }\n",
              "\n",
              "    .dataframe thead th {\n",
              "        text-align: right;\n",
              "    }\n",
              "</style>\n",
              "<table border=\"1\" class=\"dataframe\">\n",
              "  <thead>\n",
              "    <tr style=\"text-align: right;\">\n",
              "      <th></th>\n",
              "      <th>AAA</th>\n",
              "      <th>BBB</th>\n",
              "      <th>CCC</th>\n",
              "    </tr>\n",
              "  </thead>\n",
              "  <tbody>\n",
              "    <tr>\n",
              "      <th>0</th>\n",
              "      <td>1.218673</td>\n",
              "      <td>6.948719</td>\n",
              "      <td>5.615843</td>\n",
              "    </tr>\n",
              "    <tr>\n",
              "      <th>1</th>\n",
              "      <td>8.129096</td>\n",
              "      <td>3.996920</td>\n",
              "      <td>2.447068</td>\n",
              "    </tr>\n",
              "    <tr>\n",
              "      <th>2</th>\n",
              "      <td>5.336587</td>\n",
              "      <td>4.207059</td>\n",
              "      <td>5.733203</td>\n",
              "    </tr>\n",
              "    <tr>\n",
              "      <th>3</th>\n",
              "      <td>3.813117</td>\n",
              "      <td>4.595328</td>\n",
              "      <td>9.254392</td>\n",
              "    </tr>\n",
              "    <tr>\n",
              "      <th>4</th>\n",
              "      <td>1.083624</td>\n",
              "      <td>4.763291</td>\n",
              "      <td>8.982544</td>\n",
              "    </tr>\n",
              "    <tr>\n",
              "      <th>5</th>\n",
              "      <td>0.842686</td>\n",
              "      <td>4.955619</td>\n",
              "      <td>4.051316</td>\n",
              "    </tr>\n",
              "    <tr>\n",
              "      <th>6</th>\n",
              "      <td>3.820369</td>\n",
              "      <td>8.273637</td>\n",
              "      <td>9.935360</td>\n",
              "    </tr>\n",
              "    <tr>\n",
              "      <th>7</th>\n",
              "      <td>8.133258</td>\n",
              "      <td>2.770053</td>\n",
              "      <td>7.104922</td>\n",
              "    </tr>\n",
              "  </tbody>\n",
              "</table>\n",
              "</div>"
            ],
            "text/plain": [
              "        AAA       BBB       CCC\n",
              "0  1.218673  6.948719  5.615843\n",
              "1  8.129096  3.996920  2.447068\n",
              "2  5.336587  4.207059  5.733203\n",
              "3  3.813117  4.595328  9.254392\n",
              "4  1.083624  4.763291  8.982544\n",
              "5  0.842686  4.955619  4.051316\n",
              "6  3.820369  8.273637  9.935360\n",
              "7  8.133258  2.770053  7.104922"
            ]
          },
          "metadata": {
            "tags": []
          },
          "execution_count": 3
        }
      ]
    },
    {
      "cell_type": "code",
      "metadata": {
        "colab": {
          "base_uri": "https://localhost:8080/"
        },
        "id": "aGF6i37OPZIp",
        "outputId": "88ef130f-16b0-42d4-cb64-01b1d5454d9a"
      },
      "source": [
        "@np.vectorize\n",
        "def my_round(a):\n",
        "  return int(a) if a>0 else 0\n",
        "my_round(10.03)"
      ],
      "execution_count": 4,
      "outputs": [
        {
          "output_type": "execute_result",
          "data": {
            "text/plain": [
              "array(10)"
            ]
          },
          "metadata": {
            "tags": []
          },
          "execution_count": 4
        }
      ]
    },
    {
      "cell_type": "code",
      "metadata": {
        "colab": {
          "base_uri": "https://localhost:8080/"
        },
        "id": "NEcwy-fJQizL",
        "outputId": "cd356d0b-ebe4-4fda-e764-2f0b1d86bc41"
      },
      "source": [
        "srs1 = Series(contents.flatten(),name='random_digits')\n",
        "srs1"
      ],
      "execution_count": 5,
      "outputs": [
        {
          "output_type": "execute_result",
          "data": {
            "text/plain": [
              "0     1.218673\n",
              "1     6.948719\n",
              "2     5.615843\n",
              "3     8.129096\n",
              "4     3.996920\n",
              "5     2.447068\n",
              "6     5.336587\n",
              "7     4.207059\n",
              "8     5.733203\n",
              "9     3.813117\n",
              "10    4.595328\n",
              "11    9.254392\n",
              "12    1.083624\n",
              "13    4.763291\n",
              "14    8.982544\n",
              "15    0.842686\n",
              "16    4.955619\n",
              "17    4.051316\n",
              "18    3.820369\n",
              "19    8.273637\n",
              "20    9.935360\n",
              "21    8.133258\n",
              "22    2.770053\n",
              "23    7.104922\n",
              "Name: random_digits, dtype: float64"
            ]
          },
          "metadata": {
            "tags": []
          },
          "execution_count": 5
        }
      ]
    },
    {
      "cell_type": "code",
      "metadata": {
        "colab": {
          "base_uri": "https://localhost:8080/"
        },
        "id": "smoE6H5-QJAc",
        "outputId": "9276e7f3-bed2-4bb6-abf4-68cad531cc10"
      },
      "source": [
        "%timeit my_round(srs1)"
      ],
      "execution_count": 6,
      "outputs": [
        {
          "output_type": "stream",
          "text": [
            "The slowest run took 10.75 times longer than the fastest. This could mean that an intermediate result is being cached.\n",
            "10000 loops, best of 5: 47.3 µs per loop\n"
          ],
          "name": "stdout"
        }
      ]
    },
    {
      "cell_type": "code",
      "metadata": {
        "colab": {
          "base_uri": "https://localhost:8080/"
        },
        "id": "XDIMVKRFRHtx",
        "outputId": "f0859586-559a-4bd9-919b-62a05bc4e85b"
      },
      "source": [
        "%timeit np.abs(srs1)"
      ],
      "execution_count": 7,
      "outputs": [
        {
          "output_type": "stream",
          "text": [
            "10000 loops, best of 5: 84 µs per loop\n"
          ],
          "name": "stdout"
        }
      ]
    },
    {
      "cell_type": "code",
      "metadata": {
        "colab": {
          "base_uri": "https://localhost:8080/"
        },
        "id": "qj2NB_n2RhhR",
        "outputId": "8c9f3772-5b12-4994-e0e6-fd4529a723d9"
      },
      "source": [
        "srs1.apply(lambda x : int(x) if x>0 else 0)\n"
      ],
      "execution_count": 8,
      "outputs": [
        {
          "output_type": "execute_result",
          "data": {
            "text/plain": [
              "0     1\n",
              "1     6\n",
              "2     5\n",
              "3     8\n",
              "4     3\n",
              "5     2\n",
              "6     5\n",
              "7     4\n",
              "8     5\n",
              "9     3\n",
              "10    4\n",
              "11    9\n",
              "12    1\n",
              "13    4\n",
              "14    8\n",
              "15    0\n",
              "16    4\n",
              "17    4\n",
              "18    3\n",
              "19    8\n",
              "20    9\n",
              "21    8\n",
              "22    2\n",
              "23    7\n",
              "Name: random_digits, dtype: int64"
            ]
          },
          "metadata": {
            "tags": []
          },
          "execution_count": 8
        }
      ]
    },
    {
      "cell_type": "code",
      "metadata": {
        "colab": {
          "base_uri": "https://localhost:8080/"
        },
        "id": "ykGx6Oh8Rxf6",
        "outputId": "c1fb88c5-d019-43c8-aad7-38b60d28d888"
      },
      "source": [
        "srs1[np.arange(1,24,2)]=np.nan\n",
        "srs1"
      ],
      "execution_count": 9,
      "outputs": [
        {
          "output_type": "execute_result",
          "data": {
            "text/plain": [
              "0     1.218673\n",
              "1          NaN\n",
              "2     5.615843\n",
              "3          NaN\n",
              "4     3.996920\n",
              "5          NaN\n",
              "6     5.336587\n",
              "7          NaN\n",
              "8     5.733203\n",
              "9          NaN\n",
              "10    4.595328\n",
              "11         NaN\n",
              "12    1.083624\n",
              "13         NaN\n",
              "14    8.982544\n",
              "15         NaN\n",
              "16    4.955619\n",
              "17         NaN\n",
              "18    3.820369\n",
              "19         NaN\n",
              "20    9.935360\n",
              "21         NaN\n",
              "22    2.770053\n",
              "23         NaN\n",
              "Name: random_digits, dtype: float64"
            ]
          },
          "metadata": {
            "tags": []
          },
          "execution_count": 9
        }
      ]
    },
    {
      "cell_type": "code",
      "metadata": {
        "id": "TdkTPa6-SbC0"
      },
      "source": [
        "bef_mean = srs1.mean()"
      ],
      "execution_count": 10,
      "outputs": []
    },
    {
      "cell_type": "code",
      "metadata": {
        "id": "WPQ-wA64Sec1"
      },
      "source": [
        "bef_std = srs1.std()"
      ],
      "execution_count": 11,
      "outputs": []
    },
    {
      "cell_type": "code",
      "metadata": {
        "colab": {
          "base_uri": "https://localhost:8080/"
        },
        "id": "-ATb-9EdT_lK",
        "outputId": "cde290f3-d8d8-4cec-c3a1-afe8902b362d"
      },
      "source": [
        "srs1.index[srs1.isnull()]"
      ],
      "execution_count": 12,
      "outputs": [
        {
          "output_type": "execute_result",
          "data": {
            "text/plain": [
              "Int64Index([1, 3, 5, 7, 9, 11, 13, 15, 17, 19, 21, 23], dtype='int64')"
            ]
          },
          "metadata": {
            "tags": []
          },
          "execution_count": 12
        }
      ]
    },
    {
      "cell_type": "code",
      "metadata": {
        "colab": {
          "base_uri": "https://localhost:8080/"
        },
        "id": "iZ1ZY5tISgWx",
        "outputId": "2ce04abc-942c-4002-8f42-55638dda16a9"
      },
      "source": [
        "subs_val = Series(np.random.choice(srs1[srs1.notnull()],size=srs1.isnull().sum()),index=srs1.index[srs1.isnull()])\n",
        "subs_val"
      ],
      "execution_count": 13,
      "outputs": [
        {
          "output_type": "execute_result",
          "data": {
            "text/plain": [
              "1     8.982544\n",
              "3     4.595328\n",
              "5     5.733203\n",
              "7     5.615843\n",
              "9     4.955619\n",
              "11    1.218673\n",
              "13    5.336587\n",
              "15    4.955619\n",
              "17    2.770053\n",
              "19    5.733203\n",
              "21    5.733203\n",
              "23    3.996920\n",
              "dtype: float64"
            ]
          },
          "metadata": {
            "tags": []
          },
          "execution_count": 13
        }
      ]
    },
    {
      "cell_type": "code",
      "metadata": {
        "colab": {
          "base_uri": "https://localhost:8080/"
        },
        "id": "_plQUZ70UWu0",
        "outputId": "24d847af-f051-43ae-a59c-3a75af5704d9"
      },
      "source": [
        "srs1.fillna(subs_val)"
      ],
      "execution_count": 14,
      "outputs": [
        {
          "output_type": "execute_result",
          "data": {
            "text/plain": [
              "0     1.218673\n",
              "1     8.982544\n",
              "2     5.615843\n",
              "3     4.595328\n",
              "4     3.996920\n",
              "5     5.733203\n",
              "6     5.336587\n",
              "7     5.615843\n",
              "8     5.733203\n",
              "9     4.955619\n",
              "10    4.595328\n",
              "11    1.218673\n",
              "12    1.083624\n",
              "13    5.336587\n",
              "14    8.982544\n",
              "15    4.955619\n",
              "16    4.955619\n",
              "17    2.770053\n",
              "18    3.820369\n",
              "19    5.733203\n",
              "20    9.935360\n",
              "21    5.733203\n",
              "22    2.770053\n",
              "23    3.996920\n",
              "Name: random_digits, dtype: float64"
            ]
          },
          "metadata": {
            "tags": []
          },
          "execution_count": 14
        }
      ]
    },
    {
      "cell_type": "code",
      "metadata": {
        "id": "RIrITFaVUiWb"
      },
      "source": [
        "aft_mean = srs1.mean()\n",
        "aft_std = srs1.std()"
      ],
      "execution_count": 15,
      "outputs": []
    },
    {
      "cell_type": "code",
      "metadata": {
        "colab": {
          "base_uri": "https://localhost:8080/"
        },
        "id": "AlzV7FdpUt0z",
        "outputId": "809f2397-0621-4e71-9ff0-b99ba656b0ce"
      },
      "source": [
        "print(bef_mean,aft_mean)\n",
        "print(bef_std,aft_std)"
      ],
      "execution_count": 16,
      "outputs": [
        {
          "output_type": "stream",
          "text": [
            "4.837010160473512 4.837010160473512\n",
            "2.6646218489296496 2.6646218489296496\n"
          ],
          "name": "stdout"
        }
      ]
    },
    {
      "cell_type": "code",
      "metadata": {
        "colab": {
          "base_uri": "https://localhost:8080/"
        },
        "id": "7MVA8GAFVMb5",
        "outputId": "58ad0473-facf-42ad-da2e-384ee6def6e2"
      },
      "source": [
        "%pylab\n",
        "%matplotlib inline"
      ],
      "execution_count": 17,
      "outputs": [
        {
          "output_type": "stream",
          "text": [
            "Using matplotlib backend: agg\n",
            "Populating the interactive namespace from numpy and matplotlib\n"
          ],
          "name": "stdout"
        }
      ]
    },
    {
      "cell_type": "code",
      "metadata": {
        "colab": {
          "base_uri": "https://localhost:8080/",
          "height": 402
        },
        "id": "6YxtSh6mVwOG",
        "outputId": "7afe8013-b828-4c02-a102-847a1b6a4467"
      },
      "source": [
        "rand_x = DataFrame(randn(1000,3).cumsum(axis=0),columns=['AAA','BBB','CCC'])\n",
        "rand_x"
      ],
      "execution_count": 18,
      "outputs": [
        {
          "output_type": "execute_result",
          "data": {
            "text/html": [
              "<div>\n",
              "<style scoped>\n",
              "    .dataframe tbody tr th:only-of-type {\n",
              "        vertical-align: middle;\n",
              "    }\n",
              "\n",
              "    .dataframe tbody tr th {\n",
              "        vertical-align: top;\n",
              "    }\n",
              "\n",
              "    .dataframe thead th {\n",
              "        text-align: right;\n",
              "    }\n",
              "</style>\n",
              "<table border=\"1\" class=\"dataframe\">\n",
              "  <thead>\n",
              "    <tr style=\"text-align: right;\">\n",
              "      <th></th>\n",
              "      <th>AAA</th>\n",
              "      <th>BBB</th>\n",
              "      <th>CCC</th>\n",
              "    </tr>\n",
              "  </thead>\n",
              "  <tbody>\n",
              "    <tr>\n",
              "      <th>0</th>\n",
              "      <td>0.548710</td>\n",
              "      <td>0.995069</td>\n",
              "      <td>-1.799624</td>\n",
              "    </tr>\n",
              "    <tr>\n",
              "      <th>1</th>\n",
              "      <td>0.446718</td>\n",
              "      <td>0.896395</td>\n",
              "      <td>-4.259501</td>\n",
              "    </tr>\n",
              "    <tr>\n",
              "      <th>2</th>\n",
              "      <td>-0.215590</td>\n",
              "      <td>1.353391</td>\n",
              "      <td>-3.494529</td>\n",
              "    </tr>\n",
              "    <tr>\n",
              "      <th>3</th>\n",
              "      <td>0.403216</td>\n",
              "      <td>3.086423</td>\n",
              "      <td>-4.271996</td>\n",
              "    </tr>\n",
              "    <tr>\n",
              "      <th>4</th>\n",
              "      <td>-0.485468</td>\n",
              "      <td>4.422639</td>\n",
              "      <td>-4.543185</td>\n",
              "    </tr>\n",
              "    <tr>\n",
              "      <th>...</th>\n",
              "      <td>...</td>\n",
              "      <td>...</td>\n",
              "      <td>...</td>\n",
              "    </tr>\n",
              "    <tr>\n",
              "      <th>995</th>\n",
              "      <td>40.526504</td>\n",
              "      <td>36.943148</td>\n",
              "      <td>24.465076</td>\n",
              "    </tr>\n",
              "    <tr>\n",
              "      <th>996</th>\n",
              "      <td>40.723959</td>\n",
              "      <td>38.778335</td>\n",
              "      <td>24.467502</td>\n",
              "    </tr>\n",
              "    <tr>\n",
              "      <th>997</th>\n",
              "      <td>41.125244</td>\n",
              "      <td>38.620393</td>\n",
              "      <td>26.600576</td>\n",
              "    </tr>\n",
              "    <tr>\n",
              "      <th>998</th>\n",
              "      <td>40.184953</td>\n",
              "      <td>38.234239</td>\n",
              "      <td>27.481496</td>\n",
              "    </tr>\n",
              "    <tr>\n",
              "      <th>999</th>\n",
              "      <td>38.833762</td>\n",
              "      <td>35.971231</td>\n",
              "      <td>27.411861</td>\n",
              "    </tr>\n",
              "  </tbody>\n",
              "</table>\n",
              "<p>1000 rows × 3 columns</p>\n",
              "</div>"
            ],
            "text/plain": [
              "           AAA        BBB        CCC\n",
              "0     0.548710   0.995069  -1.799624\n",
              "1     0.446718   0.896395  -4.259501\n",
              "2    -0.215590   1.353391  -3.494529\n",
              "3     0.403216   3.086423  -4.271996\n",
              "4    -0.485468   4.422639  -4.543185\n",
              "..         ...        ...        ...\n",
              "995  40.526504  36.943148  24.465076\n",
              "996  40.723959  38.778335  24.467502\n",
              "997  41.125244  38.620393  26.600576\n",
              "998  40.184953  38.234239  27.481496\n",
              "999  38.833762  35.971231  27.411861\n",
              "\n",
              "[1000 rows x 3 columns]"
            ]
          },
          "metadata": {
            "tags": []
          },
          "execution_count": 18
        }
      ]
    },
    {
      "cell_type": "code",
      "metadata": {
        "colab": {
          "base_uri": "https://localhost:8080/",
          "height": 282
        },
        "id": "ihTObwL1WawR",
        "outputId": "9dea35af-6464-439a-b8a3-5124f42b33ac"
      },
      "source": [
        "rand_x.plot(kind='line')"
      ],
      "execution_count": 19,
      "outputs": [
        {
          "output_type": "execute_result",
          "data": {
            "text/plain": [
              "<matplotlib.axes._subplots.AxesSubplot at 0x7f2f06f6b390>"
            ]
          },
          "metadata": {
            "tags": []
          },
          "execution_count": 19
        },
        {
          "output_type": "display_data",
          "data": {
            "image/png": "[encoded data removed]",
            "text/plain": [
              "<Figure size 432x288 with 1 Axes>"
            ]
          },
          "metadata": {
            "tags": [],
            "needs_background": "light"
          }
        }
      ]
    },
    {
      "cell_type": "code",
      "metadata": {
        "colab": {
          "base_uri": "https://localhost:8080/",
          "height": 286
        },
        "id": "P-YTjL8HWbvf",
        "outputId": "ab92598b-fdc6-44f3-8e61-7356d4532041"
      },
      "source": [
        "AAA = rand_x.AAA\n",
        "AAA.plot(kind='line',ylim=(-40,40))"
      ],
      "execution_count": 20,
      "outputs": [
        {
          "output_type": "execute_result",
          "data": {
            "text/plain": [
              "<matplotlib.axes._subplots.AxesSubplot at 0x7f2f06e69450>"
            ]
          },
          "metadata": {
            "tags": []
          },
          "execution_count": 20
        },
        {
          "output_type": "display_data",
          "data": {
            "image/png": "[encoded data removed]",
            "text/plain": [
              "<Figure size 432x288 with 1 Axes>"
            ]
          },
          "metadata": {
            "tags": [],
            "needs_background": "light"
          }
        }
      ]
    },
    {
      "cell_type": "code",
      "metadata": {
        "colab": {
          "base_uri": "https://localhost:8080/",
          "height": 282
        },
        "id": "pWVJJ6zIXA3v",
        "outputId": "b363ba8e-7dc7-425e-c781-ae26b99f4599"
      },
      "source": [
        "AAA.plot(kind='hist')"
      ],
      "execution_count": 21,
      "outputs": [
        {
          "output_type": "execute_result",
          "data": {
            "text/plain": [
              "<matplotlib.axes._subplots.AxesSubplot at 0x7f2f06985a10>"
            ]
          },
          "metadata": {
            "tags": []
          },
          "execution_count": 21
        },
        {
          "output_type": "display_data",
          "data": {
            "image/png": "[encoded data removed]",
            "text/plain": [
              "<Figure size 432x288 with 1 Axes>"
            ]
          },
          "metadata": {
            "tags": [],
            "needs_background": "light"
          }
        }
      ]
    },
    {
      "cell_type": "code",
      "metadata": {
        "colab": {
          "base_uri": "https://localhost:8080/",
          "height": 282
        },
        "id": "XnHcHnMMW3FC",
        "outputId": "fd946ef1-d62c-49f9-99f9-c1685f7eefbd"
      },
      "source": [
        "rand_x.plot(kind='hist')"
      ],
      "execution_count": 22,
      "outputs": [
        {
          "output_type": "execute_result",
          "data": {
            "text/plain": [
              "<matplotlib.axes._subplots.AxesSubplot at 0x7f2f068bac90>"
            ]
          },
          "metadata": {
            "tags": []
          },
          "execution_count": 22
        },
        {
          "output_type": "display_data",
          "data": {
            "image/png": "[encoded data removed]",
            "text/plain": [
              "<Figure size 432x288 with 1 Axes>"
            ]
          },
          "metadata": {
            "tags": [],
            "needs_background": "light"
          }
        }
      ]
    },
    {
      "cell_type": "code",
      "metadata": {
        "colab": {
          "base_uri": "https://localhost:8080/",
          "height": 282
        },
        "id": "dqmuhtkWXHV4",
        "outputId": "4806f91f-5c93-42d3-daf0-dc2ca1449e45"
      },
      "source": [
        "AAA.plot(kind='kde')"
      ],
      "execution_count": 23,
      "outputs": [
        {
          "output_type": "execute_result",
          "data": {
            "text/plain": [
              "<matplotlib.axes._subplots.AxesSubplot at 0x7f2f06816250>"
            ]
          },
          "metadata": {
            "tags": []
          },
          "execution_count": 23
        },
        {
          "output_type": "display_data",
          "data": {
            "image/png": "[encoded data removed]",
            "text/plain": [
              "<Figure size 432x288 with 1 Axes>"
            ]
          },
          "metadata": {
            "tags": [],
            "needs_background": "light"
          }
        }
      ]
    },
    {
      "cell_type": "code",
      "metadata": {
        "colab": {
          "base_uri": "https://localhost:8080/",
          "height": 282
        },
        "id": "_KV6zhHnXR46",
        "outputId": "73b30ccf-1aa3-4c06-f90c-800c61898e5d"
      },
      "source": [
        "rand_x.plot(kind='box')"
      ],
      "execution_count": 24,
      "outputs": [
        {
          "output_type": "execute_result",
          "data": {
            "text/plain": [
              "<matplotlib.axes._subplots.AxesSubplot at 0x7f2ef6df24d0>"
            ]
          },
          "metadata": {
            "tags": []
          },
          "execution_count": 24
        },
        {
          "output_type": "display_data",
          "data": {
            "image/png": "[encoded data removed]",
            "text/plain": [
              "<Figure size 432x288 with 1 Axes>"
            ]
          },
          "metadata": {
            "tags": [],
            "needs_background": "light"
          }
        }
      ]
    },
    {
      "cell_type": "code",
      "metadata": {
        "colab": {
          "base_uri": "https://localhost:8080/",
          "height": 296
        },
        "id": "gYNDUB5TXbaX",
        "outputId": "cf08bc0d-2aa4-40f4-f051-3c9f2a58b034"
      },
      "source": [
        "rand_x.plot(kind='scatter',x='AAA',y='CCC')"
      ],
      "execution_count": 25,
      "outputs": [
        {
          "output_type": "execute_result",
          "data": {
            "text/plain": [
              "<matplotlib.axes._subplots.AxesSubplot at 0x7f2ef6d16850>"
            ]
          },
          "metadata": {
            "tags": []
          },
          "execution_count": 25
        },
        {
          "output_type": "display_data",
          "data": {
            "image/png": "[encoded data removed]",
            "text/plain": [
              "<Figure size 432x288 with 1 Axes>"
            ]
          },
          "metadata": {
            "tags": [],
            "needs_background": "light"
          }
        }
      ]
    },
    {
      "cell_type": "code",
      "metadata": {
        "colab": {
          "base_uri": "https://localhost:8080/",
          "height": 275
        },
        "id": "mtrVLNLxXoIW",
        "outputId": "a76a4adc-a965-4b30-d944-417f9ba35d58"
      },
      "source": [
        "rand_x.plot(kind='hexbin',x='AAA',y='CCC',gridsize=20)"
      ],
      "execution_count": 26,
      "outputs": [
        {
          "output_type": "execute_result",
          "data": {
            "text/plain": [
              "<matplotlib.axes._subplots.AxesSubplot at 0x7f2ef6c90510>"
            ]
          },
          "metadata": {
            "tags": []
          },
          "execution_count": 26
        },
        {
          "output_type": "display_data",
          "data": {
            "image/png": "[encoded data removed]",
            "text/plain": [
              "<Figure size 432x288 with 2 Axes>"
            ]
          },
          "metadata": {
            "tags": [],
            "needs_background": "light"
          }
        }
      ]
    },
    {
      "cell_type": "code",
      "metadata": {
        "colab": {
          "base_uri": "https://localhost:8080/",
          "height": 293
        },
        "id": "1Wi8tG_OXryP",
        "outputId": "6ab2ecac-994a-4323-e8b5-0454e3b86685"
      },
      "source": [
        "rand_x.std().plot(kind='bar')"
      ],
      "execution_count": 27,
      "outputs": [
        {
          "output_type": "execute_result",
          "data": {
            "text/plain": [
              "<matplotlib.axes._subplots.AxesSubplot at 0x7f2ef6ce3650>"
            ]
          },
          "metadata": {
            "tags": []
          },
          "execution_count": 27
        },
        {
          "output_type": "display_data",
          "data": {
            "image/png": "[encoded data removed]",
            "text/plain": [
              "<Figure size 432x288 with 1 Axes>"
            ]
          },
          "metadata": {
            "tags": [],
            "needs_background": "light"
          }
        }
      ]
    },
    {
      "cell_type": "code",
      "metadata": {
        "colab": {
          "base_uri": "https://localhost:8080/",
          "height": 448
        },
        "id": "QuNMC6StYTgx",
        "outputId": "ef93954c-cfd9-4d6f-d3cb-7f53a19fb3d2"
      },
      "source": [
        "pd.plotting.scatter_matrix(rand_x)"
      ],
      "execution_count": 29,
      "outputs": [
        {
          "output_type": "execute_result",
          "data": {
            "text/plain": [
              "array([[<matplotlib.axes._subplots.AxesSubplot object at 0x7f2f06860610>,\n",
              "        <matplotlib.axes._subplots.AxesSubplot object at 0x7f2ef6aae0d0>,\n",
              "        <matplotlib.axes._subplots.AxesSubplot object at 0x7f2ef6a62750>],\n",
              "       [<matplotlib.axes._subplots.AxesSubplot object at 0x7f2ef6a17dd0>,\n",
              "        <matplotlib.axes._subplots.AxesSubplot object at 0x7f2ef69da490>,\n",
              "        <matplotlib.axes._subplots.AxesSubplot object at 0x7f2ef698db10>],\n",
              "       [<matplotlib.axes._subplots.AxesSubplot object at 0x7f2ef694f250>,\n",
              "        <matplotlib.axes._subplots.AxesSubplot object at 0x7f2ef6986810>,\n",
              "        <matplotlib.axes._subplots.AxesSubplot object at 0x7f2ef6986850>]],\n",
              "      dtype=object)"
            ]
          },
          "metadata": {
            "tags": []
          },
          "execution_count": 29
        },
        {
          "output_type": "display_data",
          "data": {
            "image/png": "[encoded data removed]",
            "text/plain": [
              "<Figure size 432x288 with 9 Axes>"
            ]
          },
          "metadata": {
            "tags": [],
            "needs_background": "light"
          }
        }
      ]
    },
    {
      "cell_type": "markdown",
      "metadata": {
        "id": "DVFWuV6jZQI0"
      },
      "source": [
        "***Author : Kaliappan Yadav***"
      ]
    },
    {
      "cell_type": "code",
      "metadata": {
        "id": "HklR2MT7jF9D"
      },
      "source": [
        "import pandas as pd"
      ],
      "execution_count": 30,
      "outputs": []
    },
    {
      "cell_type": "code",
      "metadata": {
        "colab": {
          "base_uri": "https://localhost:8080/"
        },
        "id": "hGxhFQRwjG9C",
        "outputId": "eda5036e-f8ca-4e9d-a1d1-74b7c6b6368e"
      },
      "source": [
        "data = pd.read_csv(\"/content/sample_data/california_housing_train.csv\")\n",
        "print(data)"
      ],
      "execution_count": 31,
      "outputs": [
        {
          "output_type": "stream",
          "text": [
            "       longitude  latitude  ...  median_income  median_house_value\n",
            "0        -114.31     34.19  ...         1.4936             66900.0\n",
            "1        -114.47     34.40  ...         1.8200             80100.0\n",
            "2        -114.56     33.69  ...         1.6509             85700.0\n",
            "3        -114.57     33.64  ...         3.1917             73400.0\n",
            "4        -114.57     33.57  ...         1.9250             65500.0\n",
            "...          ...       ...  ...            ...                 ...\n",
            "16995    -124.26     40.58  ...         2.3571            111400.0\n",
            "16996    -124.27     40.69  ...         2.5179             79000.0\n",
            "16997    -124.30     41.84  ...         3.0313            103600.0\n",
            "16998    -124.30     41.80  ...         1.9797             85800.0\n",
            "16999    -124.35     40.54  ...         3.0147             94600.0\n",
            "\n",
            "[17000 rows x 9 columns]\n"
          ],
          "name": "stdout"
        }
      ]
    },
    {
      "cell_type": "code",
      "metadata": {
        "colab": {
          "base_uri": "https://localhost:8080/"
        },
        "id": "J9Njag07jHAe",
        "outputId": "eb19514b-3d72-46be-94cd-669ce428dc4a"
      },
      "source": [
        "print(\"count : \\n\",data.count())\n",
        "print(\"sum : \\n\",data.sum())\n",
        "print(\"min : \\n\",data.min())\n",
        "print(\"max : \\n\",data.max())\n",
        "print(\"mean : \\n\",data.mean())\n",
        "print(\"median : \\n\",data.median())\n"
      ],
      "execution_count": 32,
      "outputs": [
        {
          "output_type": "stream",
          "text": [
            "count : \n",
            " longitude             17000\n",
            "latitude              17000\n",
            "housing_median_age    17000\n",
            "total_rooms           17000\n",
            "total_bedrooms        17000\n",
            "population            17000\n",
            "households            17000\n",
            "median_income         17000\n",
            "median_house_value    17000\n",
            "dtype: int64\n",
            "sum : \n",
            " longitude            -2.032556e+06\n",
            "latitude              6.056288e+05\n",
            "housing_median_age    4.860190e+05\n",
            "total_rooms           4.494230e+07\n",
            "total_bedrooms        9.169984e+06\n",
            "population            2.430276e+07\n",
            "households            8.520773e+06\n",
            "median_income         6.602083e+04\n",
            "median_house_value    3.524116e+09\n",
            "dtype: float64\n",
            "min : \n",
            " longitude              -124.3500\n",
            "latitude                 32.5400\n",
            "housing_median_age        1.0000\n",
            "total_rooms               2.0000\n",
            "total_bedrooms            1.0000\n",
            "population                3.0000\n",
            "households                1.0000\n",
            "median_income             0.4999\n",
            "median_house_value    14999.0000\n",
            "dtype: float64\n",
            "max : \n",
            " longitude               -114.3100\n",
            "latitude                  41.9500\n",
            "housing_median_age        52.0000\n",
            "total_rooms            37937.0000\n",
            "total_bedrooms          6445.0000\n",
            "population             35682.0000\n",
            "households              6082.0000\n",
            "median_income             15.0001\n",
            "median_house_value    500001.0000\n",
            "dtype: float64\n",
            "mean : \n",
            " longitude               -119.562108\n",
            "latitude                  35.625225\n",
            "housing_median_age        28.589353\n",
            "total_rooms             2643.664412\n",
            "total_bedrooms           539.410824\n",
            "population              1429.573941\n",
            "households               501.221941\n",
            "median_income              3.883578\n",
            "median_house_value    207300.912353\n",
            "dtype: float64\n",
            "median : \n",
            " longitude               -118.4900\n",
            "latitude                  34.2500\n",
            "housing_median_age        29.0000\n",
            "total_rooms             2127.0000\n",
            "total_bedrooms           434.0000\n",
            "population              1167.0000\n",
            "households               409.0000\n",
            "median_income              3.5446\n",
            "median_house_value    180400.0000\n",
            "dtype: float64\n"
          ],
          "name": "stdout"
        }
      ]
    },
    {
      "cell_type": "code",
      "metadata": {
        "colab": {
          "base_uri": "https://localhost:8080/"
        },
        "id": "35UbNfXzjHES",
        "outputId": "3bdde63f-6f11-4045-c79f-e1a8ed91f1a6"
      },
      "source": [
        "data.groupby(\"housing_median_age\").mean().population"
      ],
      "execution_count": 33,
      "outputs": [
        {
          "output_type": "execute_result",
          "data": {
            "text/plain": [
              "housing_median_age\n",
              "1.0      637.000000\n",
              "2.0     2005.224490\n",
              "3.0     2934.673913\n",
              "4.0     2739.956522\n",
              "5.0     2456.979899\n",
              "6.0     2111.263566\n",
              "7.0     2705.483444\n",
              "8.0     2055.483146\n",
              "9.0     1866.093023\n",
              "10.0    1721.305310\n",
              "11.0    2044.067308\n",
              "12.0    2145.515625\n",
              "13.0    1807.510040\n",
              "14.0    1884.657061\n",
              "15.0    1634.283654\n",
              "16.0    1517.634646\n",
              "17.0    1601.041667\n",
              "18.0    1606.784519\n",
              "19.0    1611.822816\n",
              "20.0    1521.451697\n",
              "21.0    1642.941019\n",
              "22.0    1764.043344\n",
              "23.0    1575.429319\n",
              "24.0    1616.424165\n",
              "25.0    1560.331887\n",
              "26.0    1455.495030\n",
              "27.0    1394.516373\n",
              "28.0    1449.887500\n",
              "29.0    1449.810160\n",
              "30.0    1426.296875\n",
              "31.0    1396.539062\n",
              "32.0    1387.150655\n",
              "33.0    1289.760234\n",
              "34.0    1230.865961\n",
              "35.0    1197.741329\n",
              "36.0    1088.579021\n",
              "37.0    1088.128146\n",
              "38.0    1112.138365\n",
              "39.0    1143.986755\n",
              "40.0    1113.160643\n",
              "41.0    1051.616379\n",
              "42.0    1132.753247\n",
              "43.0    1038.062937\n",
              "44.0    1024.442568\n",
              "45.0    1007.548936\n",
              "46.0    1049.244898\n",
              "47.0    1032.531429\n",
              "48.0     963.288889\n",
              "49.0    1002.558559\n",
              "50.0     986.705357\n",
              "51.0     950.218750\n",
              "52.0     934.461977\n",
              "Name: population, dtype: float64"
            ]
          },
          "metadata": {
            "tags": []
          },
          "execution_count": 33
        }
      ]
    },
    {
      "cell_type": "code",
      "metadata": {
        "colab": {
          "base_uri": "https://localhost:8080/",
          "height": 1000
        },
        "id": "Jj3u_c1xkk3G",
        "outputId": "b8f1ee0b-7a17-49d1-ca69-f29232c90825"
      },
      "source": [
        "data.groupby(\"housing_median_age\").aggregate(['min','max'])"
      ],
      "execution_count": 34,
      "outputs": [
        {
          "output_type": "execute_result",
          "data": {
            "text/html": [
              "<div>\n",
              "<style scoped>\n",
              "    .dataframe tbody tr th:only-of-type {\n",
              "        vertical-align: middle;\n",
              "    }\n",
              "\n",
              "    .dataframe tbody tr th {\n",
              "        vertical-align: top;\n",
              "    }\n",
              "\n",
              "    .dataframe thead tr th {\n",
              "        text-align: left;\n",
              "    }\n",
              "\n",
              "    .dataframe thead tr:last-of-type th {\n",
              "        text-align: right;\n",
              "    }\n",
              "</style>\n",
              "<table border=\"1\" class=\"dataframe\">\n",
              "  <thead>\n",
              "    <tr>\n",
              "      <th></th>\n",
              "      <th colspan=\"2\" halign=\"left\">longitude</th>\n",
              "      <th colspan=\"2\" halign=\"left\">latitude</th>\n",
              "      <th colspan=\"2\" halign=\"left\">total_rooms</th>\n",
              "      <th colspan=\"2\" halign=\"left\">total_bedrooms</th>\n",
              "      <th colspan=\"2\" halign=\"left\">population</th>\n",
              "      <th colspan=\"2\" halign=\"left\">households</th>\n",
              "      <th colspan=\"2\" halign=\"left\">median_income</th>\n",
              "      <th colspan=\"2\" halign=\"left\">median_house_value</th>\n",
              "    </tr>\n",
              "    <tr>\n",
              "      <th></th>\n",
              "      <th>min</th>\n",
              "      <th>max</th>\n",
              "      <th>min</th>\n",
              "      <th>max</th>\n",
              "      <th>min</th>\n",
              "      <th>max</th>\n",
              "      <th>min</th>\n",
              "      <th>max</th>\n",
              "      <th>min</th>\n",
              "      <th>max</th>\n",
              "      <th>min</th>\n",
              "      <th>max</th>\n",
              "      <th>min</th>\n",
              "      <th>max</th>\n",
              "      <th>min</th>\n",
              "      <th>max</th>\n",
              "    </tr>\n",
              "    <tr>\n",
              "      <th>housing_median_age</th>\n",
              "      <th></th>\n",
              "      <th></th>\n",
              "      <th></th>\n",
              "      <th></th>\n",
              "      <th></th>\n",
              "      <th></th>\n",
              "      <th></th>\n",
              "      <th></th>\n",
              "      <th></th>\n",
              "      <th></th>\n",
              "      <th></th>\n",
              "      <th></th>\n",
              "      <th></th>\n",
              "      <th></th>\n",
              "      <th></th>\n",
              "      <th></th>\n",
              "    </tr>\n",
              "  </thead>\n",
              "  <tbody>\n",
              "    <tr>\n",
              "      <th>1.0</th>\n",
              "      <td>-122.00</td>\n",
              "      <td>-120.93</td>\n",
              "      <td>37.65</td>\n",
              "      <td>38.23</td>\n",
              "      <td>2062.0</td>\n",
              "      <td>2254.0</td>\n",
              "      <td>328.0</td>\n",
              "      <td>343.0</td>\n",
              "      <td>402.0</td>\n",
              "      <td>872.0</td>\n",
              "      <td>112.0</td>\n",
              "      <td>268.0</td>\n",
              "      <td>4.2500</td>\n",
              "      <td>5.2636</td>\n",
              "      <td>189200.0</td>\n",
              "      <td>191300.0</td>\n",
              "    </tr>\n",
              "    <tr>\n",
              "      <th>2.0</th>\n",
              "      <td>-122.51</td>\n",
              "      <td>-115.80</td>\n",
              "      <td>33.16</td>\n",
              "      <td>40.58</td>\n",
              "      <td>96.0</td>\n",
              "      <td>21897.0</td>\n",
              "      <td>18.0</td>\n",
              "      <td>3513.0</td>\n",
              "      <td>30.0</td>\n",
              "      <td>8652.0</td>\n",
              "      <td>16.0</td>\n",
              "      <td>2873.0</td>\n",
              "      <td>1.9667</td>\n",
              "      <td>10.1531</td>\n",
              "      <td>47500.0</td>\n",
              "      <td>500001.0</td>\n",
              "    </tr>\n",
              "    <tr>\n",
              "      <th>3.0</th>\n",
              "      <td>-122.33</td>\n",
              "      <td>-115.60</td>\n",
              "      <td>32.87</td>\n",
              "      <td>38.77</td>\n",
              "      <td>475.0</td>\n",
              "      <td>21060.0</td>\n",
              "      <td>115.0</td>\n",
              "      <td>3559.0</td>\n",
              "      <td>236.0</td>\n",
              "      <td>9623.0</td>\n",
              "      <td>123.0</td>\n",
              "      <td>3112.0</td>\n",
              "      <td>2.1187</td>\n",
              "      <td>11.5199</td>\n",
              "      <td>83200.0</td>\n",
              "      <td>500001.0</td>\n",
              "    </tr>\n",
              "    <tr>\n",
              "      <th>4.0</th>\n",
              "      <td>-122.72</td>\n",
              "      <td>-116.76</td>\n",
              "      <td>32.65</td>\n",
              "      <td>39.00</td>\n",
              "      <td>2.0</td>\n",
              "      <td>37937.0</td>\n",
              "      <td>2.0</td>\n",
              "      <td>5471.0</td>\n",
              "      <td>6.0</td>\n",
              "      <td>16122.0</td>\n",
              "      <td>2.0</td>\n",
              "      <td>5189.0</td>\n",
              "      <td>0.5360</td>\n",
              "      <td>13.4883</td>\n",
              "      <td>42500.0</td>\n",
              "      <td>500001.0</td>\n",
              "    </tr>\n",
              "    <tr>\n",
              "      <th>5.0</th>\n",
              "      <td>-122.55</td>\n",
              "      <td>-115.55</td>\n",
              "      <td>32.55</td>\n",
              "      <td>40.60</td>\n",
              "      <td>111.0</td>\n",
              "      <td>25187.0</td>\n",
              "      <td>21.0</td>\n",
              "      <td>4386.0</td>\n",
              "      <td>41.0</td>\n",
              "      <td>11956.0</td>\n",
              "      <td>20.0</td>\n",
              "      <td>3886.0</td>\n",
              "      <td>0.7526</td>\n",
              "      <td>12.6320</td>\n",
              "      <td>50000.0</td>\n",
              "      <td>500001.0</td>\n",
              "    </tr>\n",
              "    <tr>\n",
              "      <th>6.0</th>\n",
              "      <td>-122.76</td>\n",
              "      <td>-115.52</td>\n",
              "      <td>32.67</td>\n",
              "      <td>38.73</td>\n",
              "      <td>78.0</td>\n",
              "      <td>16431.0</td>\n",
              "      <td>11.0</td>\n",
              "      <td>2640.0</td>\n",
              "      <td>27.0</td>\n",
              "      <td>8222.0</td>\n",
              "      <td>10.0</td>\n",
              "      <td>2553.0</td>\n",
              "      <td>0.8198</td>\n",
              "      <td>13.0502</td>\n",
              "      <td>58000.0</td>\n",
              "      <td>500001.0</td>\n",
              "    </tr>\n",
              "    <tr>\n",
              "      <th>7.0</th>\n",
              "      <td>-122.79</td>\n",
              "      <td>-116.31</td>\n",
              "      <td>32.54</td>\n",
              "      <td>40.60</td>\n",
              "      <td>77.0</td>\n",
              "      <td>28258.0</td>\n",
              "      <td>12.0</td>\n",
              "      <td>4407.0</td>\n",
              "      <td>50.0</td>\n",
              "      <td>15037.0</td>\n",
              "      <td>15.0</td>\n",
              "      <td>4072.0</td>\n",
              "      <td>1.2667</td>\n",
              "      <td>13.8093</td>\n",
              "      <td>56200.0</td>\n",
              "      <td>500001.0</td>\n",
              "    </tr>\n",
              "    <tr>\n",
              "      <th>8.0</th>\n",
              "      <td>-123.00</td>\n",
              "      <td>-115.59</td>\n",
              "      <td>32.55</td>\n",
              "      <td>40.61</td>\n",
              "      <td>32.0</td>\n",
              "      <td>32054.0</td>\n",
              "      <td>9.0</td>\n",
              "      <td>5290.0</td>\n",
              "      <td>25.0</td>\n",
              "      <td>15507.0</td>\n",
              "      <td>7.0</td>\n",
              "      <td>5050.0</td>\n",
              "      <td>0.8131</td>\n",
              "      <td>14.9009</td>\n",
              "      <td>22500.0</td>\n",
              "      <td>500001.0</td>\n",
              "    </tr>\n",
              "    <tr>\n",
              "      <th>9.0</th>\n",
              "      <td>-123.49</td>\n",
              "      <td>-116.22</td>\n",
              "      <td>32.56</td>\n",
              "      <td>40.62</td>\n",
              "      <td>254.0</td>\n",
              "      <td>30405.0</td>\n",
              "      <td>50.0</td>\n",
              "      <td>4095.0</td>\n",
              "      <td>66.0</td>\n",
              "      <td>12873.0</td>\n",
              "      <td>29.0</td>\n",
              "      <td>3931.0</td>\n",
              "      <td>0.8952</td>\n",
              "      <td>10.8289</td>\n",
              "      <td>54200.0</td>\n",
              "      <td>500001.0</td>\n",
              "    </tr>\n",
              "    <tr>\n",
              "      <th>10.0</th>\n",
              "      <td>-123.40</td>\n",
              "      <td>-115.52</td>\n",
              "      <td>32.57</td>\n",
              "      <td>40.67</td>\n",
              "      <td>69.0</td>\n",
              "      <td>20263.0</td>\n",
              "      <td>16.0</td>\n",
              "      <td>4952.0</td>\n",
              "      <td>48.0</td>\n",
              "      <td>9851.0</td>\n",
              "      <td>16.0</td>\n",
              "      <td>4616.0</td>\n",
              "      <td>0.4999</td>\n",
              "      <td>12.5420</td>\n",
              "      <td>53300.0</td>\n",
              "      <td>500001.0</td>\n",
              "    </tr>\n",
              "    <tr>\n",
              "      <th>11.0</th>\n",
              "      <td>-124.23</td>\n",
              "      <td>-115.51</td>\n",
              "      <td>32.58</td>\n",
              "      <td>41.75</td>\n",
              "      <td>72.0</td>\n",
              "      <td>32627.0</td>\n",
              "      <td>16.0</td>\n",
              "      <td>6445.0</td>\n",
              "      <td>69.0</td>\n",
              "      <td>28566.0</td>\n",
              "      <td>20.0</td>\n",
              "      <td>6082.0</td>\n",
              "      <td>0.9227</td>\n",
              "      <td>13.1477</td>\n",
              "      <td>50400.0</td>\n",
              "      <td>500001.0</td>\n",
              "    </tr>\n",
              "    <tr>\n",
              "      <th>12.0</th>\n",
              "      <td>-124.09</td>\n",
              "      <td>-115.53</td>\n",
              "      <td>32.58</td>\n",
              "      <td>40.92</td>\n",
              "      <td>57.0</td>\n",
              "      <td>25957.0</td>\n",
              "      <td>22.0</td>\n",
              "      <td>4798.0</td>\n",
              "      <td>37.0</td>\n",
              "      <td>12153.0</td>\n",
              "      <td>15.0</td>\n",
              "      <td>4490.0</td>\n",
              "      <td>0.8130</td>\n",
              "      <td>10.0760</td>\n",
              "      <td>40000.0</td>\n",
              "      <td>500001.0</td>\n",
              "    </tr>\n",
              "    <tr>\n",
              "      <th>13.0</th>\n",
              "      <td>-124.17</td>\n",
              "      <td>-115.50</td>\n",
              "      <td>32.58</td>\n",
              "      <td>41.32</td>\n",
              "      <td>221.0</td>\n",
              "      <td>18448.0</td>\n",
              "      <td>42.0</td>\n",
              "      <td>3474.0</td>\n",
              "      <td>86.0</td>\n",
              "      <td>7775.0</td>\n",
              "      <td>32.0</td>\n",
              "      <td>3232.0</td>\n",
              "      <td>0.8288</td>\n",
              "      <td>9.8346</td>\n",
              "      <td>43000.0</td>\n",
              "      <td>500001.0</td>\n",
              "    </tr>\n",
              "    <tr>\n",
              "      <th>14.0</th>\n",
              "      <td>-124.05</td>\n",
              "      <td>-114.57</td>\n",
              "      <td>32.57</td>\n",
              "      <td>41.54</td>\n",
              "      <td>231.0</td>\n",
              "      <td>25135.0</td>\n",
              "      <td>36.0</td>\n",
              "      <td>4819.0</td>\n",
              "      <td>88.0</td>\n",
              "      <td>35682.0</td>\n",
              "      <td>31.0</td>\n",
              "      <td>4769.0</td>\n",
              "      <td>1.1301</td>\n",
              "      <td>15.0001</td>\n",
              "      <td>32900.0</td>\n",
              "      <td>500001.0</td>\n",
              "    </tr>\n",
              "    <tr>\n",
              "      <th>15.0</th>\n",
              "      <td>-124.19</td>\n",
              "      <td>-114.31</td>\n",
              "      <td>32.55</td>\n",
              "      <td>41.78</td>\n",
              "      <td>208.0</td>\n",
              "      <td>16042.0</td>\n",
              "      <td>49.0</td>\n",
              "      <td>2888.0</td>\n",
              "      <td>51.0</td>\n",
              "      <td>8997.0</td>\n",
              "      <td>20.0</td>\n",
              "      <td>2789.0</td>\n",
              "      <td>0.4999</td>\n",
              "      <td>15.0001</td>\n",
              "      <td>32500.0</td>\n",
              "      <td>500001.0</td>\n",
              "    </tr>\n",
              "    <tr>\n",
              "      <th>16.0</th>\n",
              "      <td>-124.00</td>\n",
              "      <td>-114.60</td>\n",
              "      <td>32.56</td>\n",
              "      <td>40.93</td>\n",
              "      <td>18.0</td>\n",
              "      <td>19059.0</td>\n",
              "      <td>3.0</td>\n",
              "      <td>4183.0</td>\n",
              "      <td>3.0</td>\n",
              "      <td>10988.0</td>\n",
              "      <td>4.0</td>\n",
              "      <td>3595.0</td>\n",
              "      <td>0.4999</td>\n",
              "      <td>12.0088</td>\n",
              "      <td>14999.0</td>\n",
              "      <td>500001.0</td>\n",
              "    </tr>\n",
              "    <tr>\n",
              "      <th>17.0</th>\n",
              "      <td>-124.30</td>\n",
              "      <td>-114.56</td>\n",
              "      <td>32.56</td>\n",
              "      <td>41.84</td>\n",
              "      <td>89.0</td>\n",
              "      <td>17715.0</td>\n",
              "      <td>19.0</td>\n",
              "      <td>3630.0</td>\n",
              "      <td>29.0</td>\n",
              "      <td>7665.0</td>\n",
              "      <td>15.0</td>\n",
              "      <td>3176.0</td>\n",
              "      <td>0.6825</td>\n",
              "      <td>15.0001</td>\n",
              "      <td>27500.0</td>\n",
              "      <td>500001.0</td>\n",
              "    </tr>\n",
              "    <tr>\n",
              "      <th>18.0</th>\n",
              "      <td>-124.10</td>\n",
              "      <td>-115.22</td>\n",
              "      <td>32.56</td>\n",
              "      <td>41.95</td>\n",
              "      <td>102.0</td>\n",
              "      <td>12707.0</td>\n",
              "      <td>17.0</td>\n",
              "      <td>2793.0</td>\n",
              "      <td>55.0</td>\n",
              "      <td>7009.0</td>\n",
              "      <td>21.0</td>\n",
              "      <td>2552.0</td>\n",
              "      <td>0.8246</td>\n",
              "      <td>11.6017</td>\n",
              "      <td>47500.0</td>\n",
              "      <td>500001.0</td>\n",
              "    </tr>\n",
              "    <tr>\n",
              "      <th>19.0</th>\n",
              "      <td>-124.30</td>\n",
              "      <td>-114.47</td>\n",
              "      <td>32.59</td>\n",
              "      <td>41.86</td>\n",
              "      <td>121.0</td>\n",
              "      <td>15990.0</td>\n",
              "      <td>34.0</td>\n",
              "      <td>3093.0</td>\n",
              "      <td>101.0</td>\n",
              "      <td>11272.0</td>\n",
              "      <td>28.0</td>\n",
              "      <td>2905.0</td>\n",
              "      <td>0.7025</td>\n",
              "      <td>15.0000</td>\n",
              "      <td>14999.0</td>\n",
              "      <td>500001.0</td>\n",
              "    </tr>\n",
              "    <tr>\n",
              "      <th>20.0</th>\n",
              "      <td>-124.21</td>\n",
              "      <td>-114.57</td>\n",
              "      <td>32.56</td>\n",
              "      <td>41.82</td>\n",
              "      <td>37.0</td>\n",
              "      <td>17377.0</td>\n",
              "      <td>11.0</td>\n",
              "      <td>4457.0</td>\n",
              "      <td>34.0</td>\n",
              "      <td>7604.0</td>\n",
              "      <td>8.0</td>\n",
              "      <td>4204.0</td>\n",
              "      <td>0.8894</td>\n",
              "      <td>12.2092</td>\n",
              "      <td>32500.0</td>\n",
              "      <td>500001.0</td>\n",
              "    </tr>\n",
              "    <tr>\n",
              "      <th>21.0</th>\n",
              "      <td>-124.19</td>\n",
              "      <td>-114.60</td>\n",
              "      <td>32.57</td>\n",
              "      <td>41.95</td>\n",
              "      <td>44.0</td>\n",
              "      <td>12902.0</td>\n",
              "      <td>33.0</td>\n",
              "      <td>3039.0</td>\n",
              "      <td>64.0</td>\n",
              "      <td>7282.0</td>\n",
              "      <td>27.0</td>\n",
              "      <td>2839.0</td>\n",
              "      <td>0.8571</td>\n",
              "      <td>11.6833</td>\n",
              "      <td>25000.0</td>\n",
              "      <td>500001.0</td>\n",
              "    </tr>\n",
              "    <tr>\n",
              "      <th>22.0</th>\n",
              "      <td>-124.14</td>\n",
              "      <td>-115.55</td>\n",
              "      <td>32.56</td>\n",
              "      <td>41.68</td>\n",
              "      <td>197.0</td>\n",
              "      <td>17591.0</td>\n",
              "      <td>54.0</td>\n",
              "      <td>3680.0</td>\n",
              "      <td>98.0</td>\n",
              "      <td>9135.0</td>\n",
              "      <td>42.0</td>\n",
              "      <td>3522.0</td>\n",
              "      <td>0.7473</td>\n",
              "      <td>11.2463</td>\n",
              "      <td>34400.0</td>\n",
              "      <td>500001.0</td>\n",
              "    </tr>\n",
              "    <tr>\n",
              "      <th>23.0</th>\n",
              "      <td>-124.16</td>\n",
              "      <td>-115.37</td>\n",
              "      <td>32.56</td>\n",
              "      <td>41.70</td>\n",
              "      <td>149.0</td>\n",
              "      <td>11294.0</td>\n",
              "      <td>32.0</td>\n",
              "      <td>1995.0</td>\n",
              "      <td>64.0</td>\n",
              "      <td>6330.0</td>\n",
              "      <td>34.0</td>\n",
              "      <td>1924.0</td>\n",
              "      <td>0.4999</td>\n",
              "      <td>12.9792</td>\n",
              "      <td>30000.0</td>\n",
              "      <td>500001.0</td>\n",
              "    </tr>\n",
              "    <tr>\n",
              "      <th>24.0</th>\n",
              "      <td>-124.15</td>\n",
              "      <td>-114.73</td>\n",
              "      <td>32.60</td>\n",
              "      <td>41.03</td>\n",
              "      <td>84.0</td>\n",
              "      <td>10281.0</td>\n",
              "      <td>14.0</td>\n",
              "      <td>2823.0</td>\n",
              "      <td>32.0</td>\n",
              "      <td>7174.0</td>\n",
              "      <td>8.0</td>\n",
              "      <td>2565.0</td>\n",
              "      <td>0.6433</td>\n",
              "      <td>14.5833</td>\n",
              "      <td>32500.0</td>\n",
              "      <td>500001.0</td>\n",
              "    </tr>\n",
              "    <tr>\n",
              "      <th>25.0</th>\n",
              "      <td>-124.14</td>\n",
              "      <td>-114.58</td>\n",
              "      <td>32.57</td>\n",
              "      <td>41.86</td>\n",
              "      <td>182.0</td>\n",
              "      <td>11016.0</td>\n",
              "      <td>41.0</td>\n",
              "      <td>3179.0</td>\n",
              "      <td>28.0</td>\n",
              "      <td>7679.0</td>\n",
              "      <td>16.0</td>\n",
              "      <td>2902.0</td>\n",
              "      <td>0.7990</td>\n",
              "      <td>13.3913</td>\n",
              "      <td>45500.0</td>\n",
              "      <td>500001.0</td>\n",
              "    </tr>\n",
              "    <tr>\n",
              "      <th>26.0</th>\n",
              "      <td>-124.17</td>\n",
              "      <td>-116.00</td>\n",
              "      <td>32.57</td>\n",
              "      <td>41.21</td>\n",
              "      <td>15.0</td>\n",
              "      <td>8902.0</td>\n",
              "      <td>3.0</td>\n",
              "      <td>2055.0</td>\n",
              "      <td>8.0</td>\n",
              "      <td>8551.0</td>\n",
              "      <td>3.0</td>\n",
              "      <td>1822.0</td>\n",
              "      <td>0.5360</td>\n",
              "      <td>15.0001</td>\n",
              "      <td>36600.0</td>\n",
              "      <td>500001.0</td>\n",
              "    </tr>\n",
              "    <tr>\n",
              "      <th>27.0</th>\n",
              "      <td>-124.14</td>\n",
              "      <td>-115.54</td>\n",
              "      <td>32.58</td>\n",
              "      <td>40.98</td>\n",
              "      <td>210.0</td>\n",
              "      <td>12342.0</td>\n",
              "      <td>56.0</td>\n",
              "      <td>2630.0</td>\n",
              "      <td>97.0</td>\n",
              "      <td>5023.0</td>\n",
              "      <td>44.0</td>\n",
              "      <td>1763.0</td>\n",
              "      <td>0.8543</td>\n",
              "      <td>15.0001</td>\n",
              "      <td>40000.0</td>\n",
              "      <td>500001.0</td>\n",
              "    </tr>\n",
              "    <tr>\n",
              "      <th>28.0</th>\n",
              "      <td>-124.22</td>\n",
              "      <td>-114.65</td>\n",
              "      <td>32.58</td>\n",
              "      <td>41.86</td>\n",
              "      <td>26.0</td>\n",
              "      <td>12139.0</td>\n",
              "      <td>3.0</td>\n",
              "      <td>2873.0</td>\n",
              "      <td>29.0</td>\n",
              "      <td>6912.0</td>\n",
              "      <td>9.0</td>\n",
              "      <td>2731.0</td>\n",
              "      <td>0.4999</td>\n",
              "      <td>14.4113</td>\n",
              "      <td>40900.0</td>\n",
              "      <td>500001.0</td>\n",
              "    </tr>\n",
              "    <tr>\n",
              "      <th>29.0</th>\n",
              "      <td>-124.14</td>\n",
              "      <td>-114.58</td>\n",
              "      <td>32.58</td>\n",
              "      <td>41.36</td>\n",
              "      <td>124.0</td>\n",
              "      <td>17738.0</td>\n",
              "      <td>22.0</td>\n",
              "      <td>3114.0</td>\n",
              "      <td>50.0</td>\n",
              "      <td>12427.0</td>\n",
              "      <td>18.0</td>\n",
              "      <td>2826.0</td>\n",
              "      <td>0.7069</td>\n",
              "      <td>13.9470</td>\n",
              "      <td>28300.0</td>\n",
              "      <td>500001.0</td>\n",
              "    </tr>\n",
              "    <tr>\n",
              "      <th>30.0</th>\n",
              "      <td>-124.19</td>\n",
              "      <td>-115.37</td>\n",
              "      <td>32.59</td>\n",
              "      <td>40.77</td>\n",
              "      <td>48.0</td>\n",
              "      <td>6540.0</td>\n",
              "      <td>14.0</td>\n",
              "      <td>1564.0</td>\n",
              "      <td>20.0</td>\n",
              "      <td>4480.0</td>\n",
              "      <td>13.0</td>\n",
              "      <td>1536.0</td>\n",
              "      <td>0.7007</td>\n",
              "      <td>12.4429</td>\n",
              "      <td>42500.0</td>\n",
              "      <td>500001.0</td>\n",
              "    </tr>\n",
              "    <tr>\n",
              "      <th>31.0</th>\n",
              "      <td>-124.13</td>\n",
              "      <td>-114.61</td>\n",
              "      <td>32.63</td>\n",
              "      <td>41.50</td>\n",
              "      <td>40.0</td>\n",
              "      <td>9320.0</td>\n",
              "      <td>8.0</td>\n",
              "      <td>1827.0</td>\n",
              "      <td>25.0</td>\n",
              "      <td>5666.0</td>\n",
              "      <td>7.0</td>\n",
              "      <td>1755.0</td>\n",
              "      <td>0.7684</td>\n",
              "      <td>15.0001</td>\n",
              "      <td>34200.0</td>\n",
              "      <td>500001.0</td>\n",
              "    </tr>\n",
              "    <tr>\n",
              "      <th>32.0</th>\n",
              "      <td>-124.25</td>\n",
              "      <td>-115.37</td>\n",
              "      <td>32.58</td>\n",
              "      <td>41.15</td>\n",
              "      <td>296.0</td>\n",
              "      <td>14556.0</td>\n",
              "      <td>58.0</td>\n",
              "      <td>2077.0</td>\n",
              "      <td>138.0</td>\n",
              "      <td>5459.0</td>\n",
              "      <td>52.0</td>\n",
              "      <td>2017.0</td>\n",
              "      <td>0.8984</td>\n",
              "      <td>15.0001</td>\n",
              "      <td>43100.0</td>\n",
              "      <td>500001.0</td>\n",
              "    </tr>\n",
              "    <tr>\n",
              "      <th>33.0</th>\n",
              "      <td>-124.18</td>\n",
              "      <td>-115.46</td>\n",
              "      <td>32.60</td>\n",
              "      <td>41.74</td>\n",
              "      <td>32.0</td>\n",
              "      <td>9531.0</td>\n",
              "      <td>6.0</td>\n",
              "      <td>1583.0</td>\n",
              "      <td>23.0</td>\n",
              "      <td>5650.0</td>\n",
              "      <td>10.0</td>\n",
              "      <td>1537.0</td>\n",
              "      <td>0.5360</td>\n",
              "      <td>15.0001</td>\n",
              "      <td>22500.0</td>\n",
              "      <td>500001.0</td>\n",
              "    </tr>\n",
              "    <tr>\n",
              "      <th>34.0</th>\n",
              "      <td>-124.18</td>\n",
              "      <td>-114.59</td>\n",
              "      <td>32.58</td>\n",
              "      <td>41.79</td>\n",
              "      <td>45.0</td>\n",
              "      <td>9280.0</td>\n",
              "      <td>11.0</td>\n",
              "      <td>1914.0</td>\n",
              "      <td>36.0</td>\n",
              "      <td>5477.0</td>\n",
              "      <td>13.0</td>\n",
              "      <td>1789.0</td>\n",
              "      <td>0.8907</td>\n",
              "      <td>15.0001</td>\n",
              "      <td>26600.0</td>\n",
              "      <td>500001.0</td>\n",
              "    </tr>\n",
              "    <tr>\n",
              "      <th>35.0</th>\n",
              "      <td>-124.18</td>\n",
              "      <td>-115.38</td>\n",
              "      <td>32.67</td>\n",
              "      <td>40.88</td>\n",
              "      <td>167.0</td>\n",
              "      <td>10869.0</td>\n",
              "      <td>31.0</td>\n",
              "      <td>2961.0</td>\n",
              "      <td>100.0</td>\n",
              "      <td>9879.0</td>\n",
              "      <td>29.0</td>\n",
              "      <td>2769.0</td>\n",
              "      <td>0.7075</td>\n",
              "      <td>15.0001</td>\n",
              "      <td>39600.0</td>\n",
              "      <td>500001.0</td>\n",
              "    </tr>\n",
              "    <tr>\n",
              "      <th>36.0</th>\n",
              "      <td>-124.27</td>\n",
              "      <td>-116.56</td>\n",
              "      <td>32.58</td>\n",
              "      <td>40.78</td>\n",
              "      <td>15.0</td>\n",
              "      <td>6871.0</td>\n",
              "      <td>5.0</td>\n",
              "      <td>2477.0</td>\n",
              "      <td>15.0</td>\n",
              "      <td>4711.0</td>\n",
              "      <td>2.0</td>\n",
              "      <td>2323.0</td>\n",
              "      <td>0.4999</td>\n",
              "      <td>15.0001</td>\n",
              "      <td>14999.0</td>\n",
              "      <td>500001.0</td>\n",
              "    </tr>\n",
              "    <tr>\n",
              "      <th>37.0</th>\n",
              "      <td>-124.19</td>\n",
              "      <td>-115.60</td>\n",
              "      <td>32.62</td>\n",
              "      <td>40.79</td>\n",
              "      <td>102.0</td>\n",
              "      <td>5477.0</td>\n",
              "      <td>17.0</td>\n",
              "      <td>1980.0</td>\n",
              "      <td>29.0</td>\n",
              "      <td>3895.0</td>\n",
              "      <td>14.0</td>\n",
              "      <td>1874.0</td>\n",
              "      <td>0.6831</td>\n",
              "      <td>13.3670</td>\n",
              "      <td>42100.0</td>\n",
              "      <td>500001.0</td>\n",
              "    </tr>\n",
              "    <tr>\n",
              "      <th>38.0</th>\n",
              "      <td>-124.14</td>\n",
              "      <td>-115.38</td>\n",
              "      <td>32.64</td>\n",
              "      <td>40.79</td>\n",
              "      <td>51.0</td>\n",
              "      <td>5587.0</td>\n",
              "      <td>12.0</td>\n",
              "      <td>1295.0</td>\n",
              "      <td>41.0</td>\n",
              "      <td>3702.0</td>\n",
              "      <td>10.0</td>\n",
              "      <td>1253.0</td>\n",
              "      <td>0.7683</td>\n",
              "      <td>12.7823</td>\n",
              "      <td>39400.0</td>\n",
              "      <td>500001.0</td>\n",
              "    </tr>\n",
              "    <tr>\n",
              "      <th>39.0</th>\n",
              "      <td>-124.18</td>\n",
              "      <td>-117.07</td>\n",
              "      <td>32.69</td>\n",
              "      <td>40.79</td>\n",
              "      <td>47.0</td>\n",
              "      <td>8193.0</td>\n",
              "      <td>16.0</td>\n",
              "      <td>1747.0</td>\n",
              "      <td>51.0</td>\n",
              "      <td>6852.0</td>\n",
              "      <td>23.0</td>\n",
              "      <td>1597.0</td>\n",
              "      <td>0.7160</td>\n",
              "      <td>11.8603</td>\n",
              "      <td>17500.0</td>\n",
              "      <td>500001.0</td>\n",
              "    </tr>\n",
              "    <tr>\n",
              "      <th>40.0</th>\n",
              "      <td>-122.82</td>\n",
              "      <td>-116.98</td>\n",
              "      <td>32.63</td>\n",
              "      <td>41.78</td>\n",
              "      <td>67.0</td>\n",
              "      <td>7737.0</td>\n",
              "      <td>17.0</td>\n",
              "      <td>2158.0</td>\n",
              "      <td>50.0</td>\n",
              "      <td>4828.0</td>\n",
              "      <td>32.0</td>\n",
              "      <td>2028.0</td>\n",
              "      <td>0.9234</td>\n",
              "      <td>15.0001</td>\n",
              "      <td>43000.0</td>\n",
              "      <td>500001.0</td>\n",
              "    </tr>\n",
              "    <tr>\n",
              "      <th>41.0</th>\n",
              "      <td>-123.98</td>\n",
              "      <td>-114.59</td>\n",
              "      <td>32.68</td>\n",
              "      <td>40.88</td>\n",
              "      <td>80.0</td>\n",
              "      <td>4400.0</td>\n",
              "      <td>20.0</td>\n",
              "      <td>1130.0</td>\n",
              "      <td>61.0</td>\n",
              "      <td>3121.0</td>\n",
              "      <td>19.0</td>\n",
              "      <td>1030.0</td>\n",
              "      <td>0.9782</td>\n",
              "      <td>8.8619</td>\n",
              "      <td>41800.0</td>\n",
              "      <td>500001.0</td>\n",
              "    </tr>\n",
              "    <tr>\n",
              "      <th>42.0</th>\n",
              "      <td>-124.10</td>\n",
              "      <td>-117.07</td>\n",
              "      <td>32.70</td>\n",
              "      <td>41.78</td>\n",
              "      <td>106.0</td>\n",
              "      <td>6297.0</td>\n",
              "      <td>18.0</td>\n",
              "      <td>2293.0</td>\n",
              "      <td>40.0</td>\n",
              "      <td>6846.0</td>\n",
              "      <td>25.0</td>\n",
              "      <td>2156.0</td>\n",
              "      <td>0.8991</td>\n",
              "      <td>15.0001</td>\n",
              "      <td>39400.0</td>\n",
              "      <td>500001.0</td>\n",
              "    </tr>\n",
              "    <tr>\n",
              "      <th>43.0</th>\n",
              "      <td>-124.17</td>\n",
              "      <td>-117.01</td>\n",
              "      <td>32.66</td>\n",
              "      <td>40.79</td>\n",
              "      <td>88.0</td>\n",
              "      <td>4994.0</td>\n",
              "      <td>12.0</td>\n",
              "      <td>1646.0</td>\n",
              "      <td>44.0</td>\n",
              "      <td>3920.0</td>\n",
              "      <td>13.0</td>\n",
              "      <td>1429.0</td>\n",
              "      <td>0.4999</td>\n",
              "      <td>15.0001</td>\n",
              "      <td>46600.0</td>\n",
              "      <td>500001.0</td>\n",
              "    </tr>\n",
              "    <tr>\n",
              "      <th>44.0</th>\n",
              "      <td>-124.09</td>\n",
              "      <td>-115.73</td>\n",
              "      <td>32.69</td>\n",
              "      <td>40.87</td>\n",
              "      <td>121.0</td>\n",
              "      <td>6983.0</td>\n",
              "      <td>29.0</td>\n",
              "      <td>1584.0</td>\n",
              "      <td>142.0</td>\n",
              "      <td>3913.0</td>\n",
              "      <td>30.0</td>\n",
              "      <td>1383.0</td>\n",
              "      <td>1.1576</td>\n",
              "      <td>12.4237</td>\n",
              "      <td>48300.0</td>\n",
              "      <td>500001.0</td>\n",
              "    </tr>\n",
              "    <tr>\n",
              "      <th>45.0</th>\n",
              "      <td>-123.22</td>\n",
              "      <td>-117.12</td>\n",
              "      <td>32.69</td>\n",
              "      <td>41.43</td>\n",
              "      <td>121.0</td>\n",
              "      <td>7803.0</td>\n",
              "      <td>25.0</td>\n",
              "      <td>2154.0</td>\n",
              "      <td>67.0</td>\n",
              "      <td>4715.0</td>\n",
              "      <td>27.0</td>\n",
              "      <td>2041.0</td>\n",
              "      <td>0.9337</td>\n",
              "      <td>15.0001</td>\n",
              "      <td>30000.0</td>\n",
              "      <td>500001.0</td>\n",
              "    </tr>\n",
              "    <tr>\n",
              "      <th>46.0</th>\n",
              "      <td>-124.16</td>\n",
              "      <td>-114.60</td>\n",
              "      <td>32.66</td>\n",
              "      <td>40.78</td>\n",
              "      <td>11.0</td>\n",
              "      <td>6429.0</td>\n",
              "      <td>4.0</td>\n",
              "      <td>2610.0</td>\n",
              "      <td>13.0</td>\n",
              "      <td>7443.0</td>\n",
              "      <td>5.0</td>\n",
              "      <td>2406.0</td>\n",
              "      <td>0.4999</td>\n",
              "      <td>15.0001</td>\n",
              "      <td>26900.0</td>\n",
              "      <td>500001.0</td>\n",
              "    </tr>\n",
              "    <tr>\n",
              "      <th>47.0</th>\n",
              "      <td>-124.15</td>\n",
              "      <td>-117.10</td>\n",
              "      <td>32.68</td>\n",
              "      <td>40.87</td>\n",
              "      <td>463.0</td>\n",
              "      <td>5416.0</td>\n",
              "      <td>108.0</td>\n",
              "      <td>1271.0</td>\n",
              "      <td>295.0</td>\n",
              "      <td>3348.0</td>\n",
              "      <td>86.0</td>\n",
              "      <td>1106.0</td>\n",
              "      <td>1.1868</td>\n",
              "      <td>9.4590</td>\n",
              "      <td>49600.0</td>\n",
              "      <td>500001.0</td>\n",
              "    </tr>\n",
              "    <tr>\n",
              "      <th>48.0</th>\n",
              "      <td>-122.97</td>\n",
              "      <td>-114.61</td>\n",
              "      <td>32.69</td>\n",
              "      <td>39.51</td>\n",
              "      <td>143.0</td>\n",
              "      <td>4506.0</td>\n",
              "      <td>41.0</td>\n",
              "      <td>1342.0</td>\n",
              "      <td>129.0</td>\n",
              "      <td>3298.0</td>\n",
              "      <td>50.0</td>\n",
              "      <td>1239.0</td>\n",
              "      <td>0.8024</td>\n",
              "      <td>15.0001</td>\n",
              "      <td>48600.0</td>\n",
              "      <td>500001.0</td>\n",
              "    </tr>\n",
              "    <tr>\n",
              "      <th>49.0</th>\n",
              "      <td>-123.79</td>\n",
              "      <td>-117.10</td>\n",
              "      <td>32.68</td>\n",
              "      <td>39.44</td>\n",
              "      <td>98.0</td>\n",
              "      <td>4449.0</td>\n",
              "      <td>24.0</td>\n",
              "      <td>1197.0</td>\n",
              "      <td>59.0</td>\n",
              "      <td>2862.0</td>\n",
              "      <td>23.0</td>\n",
              "      <td>1009.0</td>\n",
              "      <td>0.7068</td>\n",
              "      <td>12.9591</td>\n",
              "      <td>52000.0</td>\n",
              "      <td>500001.0</td>\n",
              "    </tr>\n",
              "    <tr>\n",
              "      <th>50.0</th>\n",
              "      <td>-124.16</td>\n",
              "      <td>-117.11</td>\n",
              "      <td>32.70</td>\n",
              "      <td>41.73</td>\n",
              "      <td>187.0</td>\n",
              "      <td>3657.0</td>\n",
              "      <td>33.0</td>\n",
              "      <td>1095.0</td>\n",
              "      <td>76.0</td>\n",
              "      <td>3080.0</td>\n",
              "      <td>35.0</td>\n",
              "      <td>997.0</td>\n",
              "      <td>1.2041</td>\n",
              "      <td>13.3036</td>\n",
              "      <td>54200.0</td>\n",
              "      <td>500001.0</td>\n",
              "    </tr>\n",
              "    <tr>\n",
              "      <th>51.0</th>\n",
              "      <td>-122.48</td>\n",
              "      <td>-117.15</td>\n",
              "      <td>32.72</td>\n",
              "      <td>40.17</td>\n",
              "      <td>175.0</td>\n",
              "      <td>4280.0</td>\n",
              "      <td>43.0</td>\n",
              "      <td>632.0</td>\n",
              "      <td>228.0</td>\n",
              "      <td>1795.0</td>\n",
              "      <td>55.0</td>\n",
              "      <td>621.0</td>\n",
              "      <td>1.2852</td>\n",
              "      <td>9.3694</td>\n",
              "      <td>51900.0</td>\n",
              "      <td>500001.0</td>\n",
              "    </tr>\n",
              "    <tr>\n",
              "      <th>52.0</th>\n",
              "      <td>-124.35</td>\n",
              "      <td>-116.88</td>\n",
              "      <td>32.67</td>\n",
              "      <td>41.32</td>\n",
              "      <td>8.0</td>\n",
              "      <td>6016.0</td>\n",
              "      <td>1.0</td>\n",
              "      <td>2747.0</td>\n",
              "      <td>13.0</td>\n",
              "      <td>4518.0</td>\n",
              "      <td>1.0</td>\n",
              "      <td>2538.0</td>\n",
              "      <td>0.4999</td>\n",
              "      <td>15.0001</td>\n",
              "      <td>14999.0</td>\n",
              "      <td>500001.0</td>\n",
              "    </tr>\n",
              "  </tbody>\n",
              "</table>\n",
              "</div>"
            ],
            "text/plain": [
              "                   longitude          ... median_house_value          \n",
              "                         min     max  ...                min       max\n",
              "housing_median_age                    ...                             \n",
              "1.0                  -122.00 -120.93  ...           189200.0  191300.0\n",
              "2.0                  -122.51 -115.80  ...            47500.0  500001.0\n",
              "3.0                  -122.33 -115.60  ...            83200.0  500001.0\n",
              "4.0                  -122.72 -116.76  ...            42500.0  500001.0\n",
              "5.0                  -122.55 -115.55  ...            50000.0  500001.0\n",
              "6.0                  -122.76 -115.52  ...            58000.0  500001.0\n",
              "7.0                  -122.79 -116.31  ...            56200.0  500001.0\n",
              "8.0                  -123.00 -115.59  ...            22500.0  500001.0\n",
              "9.0                  -123.49 -116.22  ...            54200.0  500001.0\n",
              "10.0                 -123.40 -115.52  ...            53300.0  500001.0\n",
              "11.0                 -124.23 -115.51  ...            50400.0  500001.0\n",
              "12.0                 -124.09 -115.53  ...            40000.0  500001.0\n",
              "13.0                 -124.17 -115.50  ...            43000.0  500001.0\n",
              "14.0                 -124.05 -114.57  ...            32900.0  500001.0\n",
              "15.0                 -124.19 -114.31  ...            32500.0  500001.0\n",
              "16.0                 -124.00 -114.60  ...            14999.0  500001.0\n",
              "17.0                 -124.30 -114.56  ...            27500.0  500001.0\n",
              "18.0                 -124.10 -115.22  ...            47500.0  500001.0\n",
              "19.0                 -124.30 -114.47  ...            14999.0  500001.0\n",
              "20.0                 -124.21 -114.57  ...            32500.0  500001.0\n",
              "21.0                 -124.19 -114.60  ...            25000.0  500001.0\n",
              "22.0                 -124.14 -115.55  ...            34400.0  500001.0\n",
              "23.0                 -124.16 -115.37  ...            30000.0  500001.0\n",
              "24.0                 -124.15 -114.73  ...            32500.0  500001.0\n",
              "25.0                 -124.14 -114.58  ...            45500.0  500001.0\n",
              "26.0                 -124.17 -116.00  ...            36600.0  500001.0\n",
              "27.0                 -124.14 -115.54  ...            40000.0  500001.0\n",
              "28.0                 -124.22 -114.65  ...            40900.0  500001.0\n",
              "29.0                 -124.14 -114.58  ...            28300.0  500001.0\n",
              "30.0                 -124.19 -115.37  ...            42500.0  500001.0\n",
              "31.0                 -124.13 -114.61  ...            34200.0  500001.0\n",
              "32.0                 -124.25 -115.37  ...            43100.0  500001.0\n",
              "33.0                 -124.18 -115.46  ...            22500.0  500001.0\n",
              "34.0                 -124.18 -114.59  ...            26600.0  500001.0\n",
              "35.0                 -124.18 -115.38  ...            39600.0  500001.0\n",
              "36.0                 -124.27 -116.56  ...            14999.0  500001.0\n",
              "37.0                 -124.19 -115.60  ...            42100.0  500001.0\n",
              "38.0                 -124.14 -115.38  ...            39400.0  500001.0\n",
              "39.0                 -124.18 -117.07  ...            17500.0  500001.0\n",
              "40.0                 -122.82 -116.98  ...            43000.0  500001.0\n",
              "41.0                 -123.98 -114.59  ...            41800.0  500001.0\n",
              "42.0                 -124.10 -117.07  ...            39400.0  500001.0\n",
              "43.0                 -124.17 -117.01  ...            46600.0  500001.0\n",
              "44.0                 -124.09 -115.73  ...            48300.0  500001.0\n",
              "45.0                 -123.22 -117.12  ...            30000.0  500001.0\n",
              "46.0                 -124.16 -114.60  ...            26900.0  500001.0\n",
              "47.0                 -124.15 -117.10  ...            49600.0  500001.0\n",
              "48.0                 -122.97 -114.61  ...            48600.0  500001.0\n",
              "49.0                 -123.79 -117.10  ...            52000.0  500001.0\n",
              "50.0                 -124.16 -117.11  ...            54200.0  500001.0\n",
              "51.0                 -122.48 -117.15  ...            51900.0  500001.0\n",
              "52.0                 -124.35 -116.88  ...            14999.0  500001.0\n",
              "\n",
              "[52 rows x 16 columns]"
            ]
          },
          "metadata": {
            "tags": []
          },
          "execution_count": 34
        }
      ]
    },
    {
      "cell_type": "markdown",
      "metadata": {
        "id": "6qQPikCfTtqD"
      },
      "source": [
        "Merging & Reshaping "
      ]
    },
    {
      "cell_type": "code",
      "metadata": {
        "id": "H5o7yvCbTsdr"
      },
      "source": [
        "roll_no = [i for i in range(1,61)]\n",
        "Physics = pd.DataFrame({\"roll_no\":roll_no,\"Physics\":[1 for i in range(60)]}).set_index(\"roll_no\")\n",
        "Chemistry = pd.DataFrame({\"roll_no\":[i for i in range(1,61) if i%3==0 ]}).set_index(\"roll_no\")\n",
        "Chemistry[\"Chemistry\"] =1"
      ],
      "execution_count": 214,
      "outputs": []
    },
    {
      "cell_type": "code",
      "metadata": {
        "colab": {
          "base_uri": "https://localhost:8080/",
          "height": 1000
        },
        "id": "1X7MIWCxdGMR",
        "outputId": "fb1e5b43-f7ae-4358-b08d-fec44dc15d3d"
      },
      "source": [
        "Physics"
      ],
      "execution_count": 216,
      "outputs": [
        {
          "output_type": "execute_result",
          "data": {
            "text/html": [
              "<div>\n",
              "<style scoped>\n",
              "    .dataframe tbody tr th:only-of-type {\n",
              "        vertical-align: middle;\n",
              "    }\n",
              "\n",
              "    .dataframe tbody tr th {\n",
              "        vertical-align: top;\n",
              "    }\n",
              "\n",
              "    .dataframe thead th {\n",
              "        text-align: right;\n",
              "    }\n",
              "</style>\n",
              "<table border=\"1\" class=\"dataframe\">\n",
              "  <thead>\n",
              "    <tr style=\"text-align: right;\">\n",
              "      <th></th>\n",
              "      <th>Physics</th>\n",
              "    </tr>\n",
              "    <tr>\n",
              "      <th>roll_no</th>\n",
              "      <th></th>\n",
              "    </tr>\n",
              "  </thead>\n",
              "  <tbody>\n",
              "    <tr>\n",
              "      <th>1</th>\n",
              "      <td>1</td>\n",
              "    </tr>\n",
              "    <tr>\n",
              "      <th>2</th>\n",
              "      <td>1</td>\n",
              "    </tr>\n",
              "    <tr>\n",
              "      <th>3</th>\n",
              "      <td>1</td>\n",
              "    </tr>\n",
              "    <tr>\n",
              "      <th>4</th>\n",
              "      <td>1</td>\n",
              "    </tr>\n",
              "    <tr>\n",
              "      <th>5</th>\n",
              "      <td>1</td>\n",
              "    </tr>\n",
              "    <tr>\n",
              "      <th>6</th>\n",
              "      <td>1</td>\n",
              "    </tr>\n",
              "    <tr>\n",
              "      <th>7</th>\n",
              "      <td>1</td>\n",
              "    </tr>\n",
              "    <tr>\n",
              "      <th>8</th>\n",
              "      <td>1</td>\n",
              "    </tr>\n",
              "    <tr>\n",
              "      <th>9</th>\n",
              "      <td>1</td>\n",
              "    </tr>\n",
              "    <tr>\n",
              "      <th>10</th>\n",
              "      <td>1</td>\n",
              "    </tr>\n",
              "    <tr>\n",
              "      <th>11</th>\n",
              "      <td>1</td>\n",
              "    </tr>\n",
              "    <tr>\n",
              "      <th>12</th>\n",
              "      <td>1</td>\n",
              "    </tr>\n",
              "    <tr>\n",
              "      <th>13</th>\n",
              "      <td>1</td>\n",
              "    </tr>\n",
              "    <tr>\n",
              "      <th>14</th>\n",
              "      <td>1</td>\n",
              "    </tr>\n",
              "    <tr>\n",
              "      <th>15</th>\n",
              "      <td>1</td>\n",
              "    </tr>\n",
              "    <tr>\n",
              "      <th>16</th>\n",
              "      <td>1</td>\n",
              "    </tr>\n",
              "    <tr>\n",
              "      <th>17</th>\n",
              "      <td>1</td>\n",
              "    </tr>\n",
              "    <tr>\n",
              "      <th>18</th>\n",
              "      <td>1</td>\n",
              "    </tr>\n",
              "    <tr>\n",
              "      <th>19</th>\n",
              "      <td>1</td>\n",
              "    </tr>\n",
              "    <tr>\n",
              "      <th>20</th>\n",
              "      <td>1</td>\n",
              "    </tr>\n",
              "    <tr>\n",
              "      <th>21</th>\n",
              "      <td>1</td>\n",
              "    </tr>\n",
              "    <tr>\n",
              "      <th>22</th>\n",
              "      <td>1</td>\n",
              "    </tr>\n",
              "    <tr>\n",
              "      <th>23</th>\n",
              "      <td>1</td>\n",
              "    </tr>\n",
              "    <tr>\n",
              "      <th>24</th>\n",
              "      <td>1</td>\n",
              "    </tr>\n",
              "    <tr>\n",
              "      <th>25</th>\n",
              "      <td>1</td>\n",
              "    </tr>\n",
              "    <tr>\n",
              "      <th>26</th>\n",
              "      <td>1</td>\n",
              "    </tr>\n",
              "    <tr>\n",
              "      <th>27</th>\n",
              "      <td>1</td>\n",
              "    </tr>\n",
              "    <tr>\n",
              "      <th>28</th>\n",
              "      <td>1</td>\n",
              "    </tr>\n",
              "    <tr>\n",
              "      <th>29</th>\n",
              "      <td>1</td>\n",
              "    </tr>\n",
              "    <tr>\n",
              "      <th>30</th>\n",
              "      <td>1</td>\n",
              "    </tr>\n",
              "    <tr>\n",
              "      <th>31</th>\n",
              "      <td>1</td>\n",
              "    </tr>\n",
              "    <tr>\n",
              "      <th>32</th>\n",
              "      <td>1</td>\n",
              "    </tr>\n",
              "    <tr>\n",
              "      <th>33</th>\n",
              "      <td>1</td>\n",
              "    </tr>\n",
              "    <tr>\n",
              "      <th>34</th>\n",
              "      <td>1</td>\n",
              "    </tr>\n",
              "    <tr>\n",
              "      <th>35</th>\n",
              "      <td>1</td>\n",
              "    </tr>\n",
              "    <tr>\n",
              "      <th>36</th>\n",
              "      <td>1</td>\n",
              "    </tr>\n",
              "    <tr>\n",
              "      <th>37</th>\n",
              "      <td>1</td>\n",
              "    </tr>\n",
              "    <tr>\n",
              "      <th>38</th>\n",
              "      <td>1</td>\n",
              "    </tr>\n",
              "    <tr>\n",
              "      <th>39</th>\n",
              "      <td>1</td>\n",
              "    </tr>\n",
              "    <tr>\n",
              "      <th>40</th>\n",
              "      <td>1</td>\n",
              "    </tr>\n",
              "    <tr>\n",
              "      <th>41</th>\n",
              "      <td>1</td>\n",
              "    </tr>\n",
              "    <tr>\n",
              "      <th>42</th>\n",
              "      <td>1</td>\n",
              "    </tr>\n",
              "    <tr>\n",
              "      <th>43</th>\n",
              "      <td>1</td>\n",
              "    </tr>\n",
              "    <tr>\n",
              "      <th>44</th>\n",
              "      <td>1</td>\n",
              "    </tr>\n",
              "    <tr>\n",
              "      <th>45</th>\n",
              "      <td>1</td>\n",
              "    </tr>\n",
              "    <tr>\n",
              "      <th>46</th>\n",
              "      <td>1</td>\n",
              "    </tr>\n",
              "    <tr>\n",
              "      <th>47</th>\n",
              "      <td>1</td>\n",
              "    </tr>\n",
              "    <tr>\n",
              "      <th>48</th>\n",
              "      <td>1</td>\n",
              "    </tr>\n",
              "    <tr>\n",
              "      <th>49</th>\n",
              "      <td>1</td>\n",
              "    </tr>\n",
              "    <tr>\n",
              "      <th>50</th>\n",
              "      <td>1</td>\n",
              "    </tr>\n",
              "    <tr>\n",
              "      <th>51</th>\n",
              "      <td>1</td>\n",
              "    </tr>\n",
              "    <tr>\n",
              "      <th>52</th>\n",
              "      <td>1</td>\n",
              "    </tr>\n",
              "    <tr>\n",
              "      <th>53</th>\n",
              "      <td>1</td>\n",
              "    </tr>\n",
              "    <tr>\n",
              "      <th>54</th>\n",
              "      <td>1</td>\n",
              "    </tr>\n",
              "    <tr>\n",
              "      <th>55</th>\n",
              "      <td>1</td>\n",
              "    </tr>\n",
              "    <tr>\n",
              "      <th>56</th>\n",
              "      <td>1</td>\n",
              "    </tr>\n",
              "    <tr>\n",
              "      <th>57</th>\n",
              "      <td>1</td>\n",
              "    </tr>\n",
              "    <tr>\n",
              "      <th>58</th>\n",
              "      <td>1</td>\n",
              "    </tr>\n",
              "    <tr>\n",
              "      <th>59</th>\n",
              "      <td>1</td>\n",
              "    </tr>\n",
              "    <tr>\n",
              "      <th>60</th>\n",
              "      <td>1</td>\n",
              "    </tr>\n",
              "  </tbody>\n",
              "</table>\n",
              "</div>"
            ],
            "text/plain": [
              "         Physics\n",
              "roll_no         \n",
              "1              1\n",
              "2              1\n",
              "3              1\n",
              "4              1\n",
              "5              1\n",
              "6              1\n",
              "7              1\n",
              "8              1\n",
              "9              1\n",
              "10             1\n",
              "11             1\n",
              "12             1\n",
              "13             1\n",
              "14             1\n",
              "15             1\n",
              "16             1\n",
              "17             1\n",
              "18             1\n",
              "19             1\n",
              "20             1\n",
              "21             1\n",
              "22             1\n",
              "23             1\n",
              "24             1\n",
              "25             1\n",
              "26             1\n",
              "27             1\n",
              "28             1\n",
              "29             1\n",
              "30             1\n",
              "31             1\n",
              "32             1\n",
              "33             1\n",
              "34             1\n",
              "35             1\n",
              "36             1\n",
              "37             1\n",
              "38             1\n",
              "39             1\n",
              "40             1\n",
              "41             1\n",
              "42             1\n",
              "43             1\n",
              "44             1\n",
              "45             1\n",
              "46             1\n",
              "47             1\n",
              "48             1\n",
              "49             1\n",
              "50             1\n",
              "51             1\n",
              "52             1\n",
              "53             1\n",
              "54             1\n",
              "55             1\n",
              "56             1\n",
              "57             1\n",
              "58             1\n",
              "59             1\n",
              "60             1"
            ]
          },
          "metadata": {
            "tags": []
          },
          "execution_count": 216
        }
      ]
    },
    {
      "cell_type": "code",
      "metadata": {
        "colab": {
          "base_uri": "https://localhost:8080/",
          "height": 669
        },
        "id": "-wIuizatdKr5",
        "outputId": "e7ea44d2-e997-4aed-8786-ee7e6bccb94e"
      },
      "source": [
        "Chemistry"
      ],
      "execution_count": 217,
      "outputs": [
        {
          "output_type": "execute_result",
          "data": {
            "text/html": [
              "<div>\n",
              "<style scoped>\n",
              "    .dataframe tbody tr th:only-of-type {\n",
              "        vertical-align: middle;\n",
              "    }\n",
              "\n",
              "    .dataframe tbody tr th {\n",
              "        vertical-align: top;\n",
              "    }\n",
              "\n",
              "    .dataframe thead th {\n",
              "        text-align: right;\n",
              "    }\n",
              "</style>\n",
              "<table border=\"1\" class=\"dataframe\">\n",
              "  <thead>\n",
              "    <tr style=\"text-align: right;\">\n",
              "      <th></th>\n",
              "      <th>Chemistry</th>\n",
              "    </tr>\n",
              "    <tr>\n",
              "      <th>roll_no</th>\n",
              "      <th></th>\n",
              "    </tr>\n",
              "  </thead>\n",
              "  <tbody>\n",
              "    <tr>\n",
              "      <th>3</th>\n",
              "      <td>1</td>\n",
              "    </tr>\n",
              "    <tr>\n",
              "      <th>6</th>\n",
              "      <td>1</td>\n",
              "    </tr>\n",
              "    <tr>\n",
              "      <th>9</th>\n",
              "      <td>1</td>\n",
              "    </tr>\n",
              "    <tr>\n",
              "      <th>12</th>\n",
              "      <td>1</td>\n",
              "    </tr>\n",
              "    <tr>\n",
              "      <th>15</th>\n",
              "      <td>1</td>\n",
              "    </tr>\n",
              "    <tr>\n",
              "      <th>18</th>\n",
              "      <td>1</td>\n",
              "    </tr>\n",
              "    <tr>\n",
              "      <th>21</th>\n",
              "      <td>1</td>\n",
              "    </tr>\n",
              "    <tr>\n",
              "      <th>24</th>\n",
              "      <td>1</td>\n",
              "    </tr>\n",
              "    <tr>\n",
              "      <th>27</th>\n",
              "      <td>1</td>\n",
              "    </tr>\n",
              "    <tr>\n",
              "      <th>30</th>\n",
              "      <td>1</td>\n",
              "    </tr>\n",
              "    <tr>\n",
              "      <th>33</th>\n",
              "      <td>1</td>\n",
              "    </tr>\n",
              "    <tr>\n",
              "      <th>36</th>\n",
              "      <td>1</td>\n",
              "    </tr>\n",
              "    <tr>\n",
              "      <th>39</th>\n",
              "      <td>1</td>\n",
              "    </tr>\n",
              "    <tr>\n",
              "      <th>42</th>\n",
              "      <td>1</td>\n",
              "    </tr>\n",
              "    <tr>\n",
              "      <th>45</th>\n",
              "      <td>1</td>\n",
              "    </tr>\n",
              "    <tr>\n",
              "      <th>48</th>\n",
              "      <td>1</td>\n",
              "    </tr>\n",
              "    <tr>\n",
              "      <th>51</th>\n",
              "      <td>1</td>\n",
              "    </tr>\n",
              "    <tr>\n",
              "      <th>54</th>\n",
              "      <td>1</td>\n",
              "    </tr>\n",
              "    <tr>\n",
              "      <th>57</th>\n",
              "      <td>1</td>\n",
              "    </tr>\n",
              "    <tr>\n",
              "      <th>60</th>\n",
              "      <td>1</td>\n",
              "    </tr>\n",
              "  </tbody>\n",
              "</table>\n",
              "</div>"
            ],
            "text/plain": [
              "         Chemistry\n",
              "roll_no           \n",
              "3                1\n",
              "6                1\n",
              "9                1\n",
              "12               1\n",
              "15               1\n",
              "18               1\n",
              "21               1\n",
              "24               1\n",
              "27               1\n",
              "30               1\n",
              "33               1\n",
              "36               1\n",
              "39               1\n",
              "42               1\n",
              "45               1\n",
              "48               1\n",
              "51               1\n",
              "54               1\n",
              "57               1\n",
              "60               1"
            ]
          },
          "metadata": {
            "tags": []
          },
          "execution_count": 217
        }
      ]
    },
    {
      "cell_type": "markdown",
      "metadata": {
        "id": "OGkvT-r0jEx8"
      },
      "source": [
        "Students who passed both chemistry & physics"
      ]
    },
    {
      "cell_type": "code",
      "metadata": {
        "colab": {
          "base_uri": "https://localhost:8080/",
          "height": 669
        },
        "id": "ywKINWi7ZI6U",
        "outputId": "e8e52e7b-d4ec-43a7-d1c9-37a1ddad9c62"
      },
      "source": [
        "Physics.join(Chemistry,how=\"inner\",on=\"roll_no\")"
      ],
      "execution_count": 224,
      "outputs": [
        {
          "output_type": "execute_result",
          "data": {
            "text/html": [
              "<div>\n",
              "<style scoped>\n",
              "    .dataframe tbody tr th:only-of-type {\n",
              "        vertical-align: middle;\n",
              "    }\n",
              "\n",
              "    .dataframe tbody tr th {\n",
              "        vertical-align: top;\n",
              "    }\n",
              "\n",
              "    .dataframe thead th {\n",
              "        text-align: right;\n",
              "    }\n",
              "</style>\n",
              "<table border=\"1\" class=\"dataframe\">\n",
              "  <thead>\n",
              "    <tr style=\"text-align: right;\">\n",
              "      <th></th>\n",
              "      <th>Physics</th>\n",
              "      <th>Chemistry</th>\n",
              "    </tr>\n",
              "    <tr>\n",
              "      <th>roll_no</th>\n",
              "      <th></th>\n",
              "      <th></th>\n",
              "    </tr>\n",
              "  </thead>\n",
              "  <tbody>\n",
              "    <tr>\n",
              "      <th>3</th>\n",
              "      <td>1</td>\n",
              "      <td>1</td>\n",
              "    </tr>\n",
              "    <tr>\n",
              "      <th>6</th>\n",
              "      <td>1</td>\n",
              "      <td>1</td>\n",
              "    </tr>\n",
              "    <tr>\n",
              "      <th>9</th>\n",
              "      <td>1</td>\n",
              "      <td>1</td>\n",
              "    </tr>\n",
              "    <tr>\n",
              "      <th>12</th>\n",
              "      <td>1</td>\n",
              "      <td>1</td>\n",
              "    </tr>\n",
              "    <tr>\n",
              "      <th>15</th>\n",
              "      <td>1</td>\n",
              "      <td>1</td>\n",
              "    </tr>\n",
              "    <tr>\n",
              "      <th>18</th>\n",
              "      <td>1</td>\n",
              "      <td>1</td>\n",
              "    </tr>\n",
              "    <tr>\n",
              "      <th>21</th>\n",
              "      <td>1</td>\n",
              "      <td>1</td>\n",
              "    </tr>\n",
              "    <tr>\n",
              "      <th>24</th>\n",
              "      <td>1</td>\n",
              "      <td>1</td>\n",
              "    </tr>\n",
              "    <tr>\n",
              "      <th>27</th>\n",
              "      <td>1</td>\n",
              "      <td>1</td>\n",
              "    </tr>\n",
              "    <tr>\n",
              "      <th>30</th>\n",
              "      <td>1</td>\n",
              "      <td>1</td>\n",
              "    </tr>\n",
              "    <tr>\n",
              "      <th>33</th>\n",
              "      <td>1</td>\n",
              "      <td>1</td>\n",
              "    </tr>\n",
              "    <tr>\n",
              "      <th>36</th>\n",
              "      <td>1</td>\n",
              "      <td>1</td>\n",
              "    </tr>\n",
              "    <tr>\n",
              "      <th>39</th>\n",
              "      <td>1</td>\n",
              "      <td>1</td>\n",
              "    </tr>\n",
              "    <tr>\n",
              "      <th>42</th>\n",
              "      <td>1</td>\n",
              "      <td>1</td>\n",
              "    </tr>\n",
              "    <tr>\n",
              "      <th>45</th>\n",
              "      <td>1</td>\n",
              "      <td>1</td>\n",
              "    </tr>\n",
              "    <tr>\n",
              "      <th>48</th>\n",
              "      <td>1</td>\n",
              "      <td>1</td>\n",
              "    </tr>\n",
              "    <tr>\n",
              "      <th>51</th>\n",
              "      <td>1</td>\n",
              "      <td>1</td>\n",
              "    </tr>\n",
              "    <tr>\n",
              "      <th>54</th>\n",
              "      <td>1</td>\n",
              "      <td>1</td>\n",
              "    </tr>\n",
              "    <tr>\n",
              "      <th>57</th>\n",
              "      <td>1</td>\n",
              "      <td>1</td>\n",
              "    </tr>\n",
              "    <tr>\n",
              "      <th>60</th>\n",
              "      <td>1</td>\n",
              "      <td>1</td>\n",
              "    </tr>\n",
              "  </tbody>\n",
              "</table>\n",
              "</div>"
            ],
            "text/plain": [
              "         Physics  Chemistry\n",
              "roll_no                    \n",
              "3              1          1\n",
              "6              1          1\n",
              "9              1          1\n",
              "12             1          1\n",
              "15             1          1\n",
              "18             1          1\n",
              "21             1          1\n",
              "24             1          1\n",
              "27             1          1\n",
              "30             1          1\n",
              "33             1          1\n",
              "36             1          1\n",
              "39             1          1\n",
              "42             1          1\n",
              "45             1          1\n",
              "48             1          1\n",
              "51             1          1\n",
              "54             1          1\n",
              "57             1          1\n",
              "60             1          1"
            ]
          },
          "metadata": {
            "tags": []
          },
          "execution_count": 224
        }
      ]
    }
  ]
}